{
 "cells": [
  {
   "cell_type": "code",
   "execution_count": 1,
   "metadata": {},
   "outputs": [],
   "source": [
    "# !pip3 install imbalanced-learn"
   ]
  },
  {
   "cell_type": "markdown",
   "metadata": {},
   "source": [
    "### Set up Synthetic Imbalanced Data"
   ]
  },
  {
   "cell_type": "code",
   "execution_count": 2,
   "metadata": {},
   "outputs": [
    {
     "name": "stdout",
     "output_type": "stream",
     "text": [
      "0.8.1\n"
     ]
    }
   ],
   "source": [
    "# check version number\n",
    "import imblearn\n",
    "import sklearn\n",
    "from sklearn.datasets import make_classification\n",
    "\n",
    "print(imblearn.__version__)\n",
    "import pandas as pd\n",
    "data = pd.read_csv('credit_split_2.csv')"
   ]
  },
  {
   "cell_type": "code",
   "execution_count": 3,
   "metadata": {},
   "outputs": [
    {
     "data": {
      "text/html": [
       "<div>\n",
       "<style scoped>\n",
       "    .dataframe tbody tr th:only-of-type {\n",
       "        vertical-align: middle;\n",
       "    }\n",
       "\n",
       "    .dataframe tbody tr th {\n",
       "        vertical-align: top;\n",
       "    }\n",
       "\n",
       "    .dataframe thead th {\n",
       "        text-align: right;\n",
       "    }\n",
       "</style>\n",
       "<table border=\"1\" class=\"dataframe\">\n",
       "  <thead>\n",
       "    <tr style=\"text-align: right;\">\n",
       "      <th></th>\n",
       "      <th>Time</th>\n",
       "      <th>V1</th>\n",
       "      <th>V2</th>\n",
       "      <th>V3</th>\n",
       "      <th>V4</th>\n",
       "      <th>V5</th>\n",
       "      <th>V6</th>\n",
       "      <th>V7</th>\n",
       "      <th>V8</th>\n",
       "      <th>V9</th>\n",
       "      <th>...</th>\n",
       "      <th>V21</th>\n",
       "      <th>V22</th>\n",
       "      <th>V23</th>\n",
       "      <th>V24</th>\n",
       "      <th>V25</th>\n",
       "      <th>V26</th>\n",
       "      <th>V27</th>\n",
       "      <th>V28</th>\n",
       "      <th>Amount</th>\n",
       "      <th>Class</th>\n",
       "    </tr>\n",
       "  </thead>\n",
       "  <tbody>\n",
       "    <tr>\n",
       "      <th>0</th>\n",
       "      <td>84692.0</td>\n",
       "      <td>1.125592</td>\n",
       "      <td>-0.147999</td>\n",
       "      <td>1.151008</td>\n",
       "      <td>1.158851</td>\n",
       "      <td>-0.823914</td>\n",
       "      <td>0.298829</td>\n",
       "      <td>-0.708732</td>\n",
       "      <td>0.294683</td>\n",
       "      <td>0.750838</td>\n",
       "      <td>...</td>\n",
       "      <td>-0.037453</td>\n",
       "      <td>0.024388</td>\n",
       "      <td>-0.052720</td>\n",
       "      <td>-0.003615</td>\n",
       "      <td>0.405682</td>\n",
       "      <td>-0.404597</td>\n",
       "      <td>0.063357</td>\n",
       "      <td>0.024091</td>\n",
       "      <td>12.99</td>\n",
       "      <td>0</td>\n",
       "    </tr>\n",
       "    <tr>\n",
       "      <th>1</th>\n",
       "      <td>84693.0</td>\n",
       "      <td>-0.439952</td>\n",
       "      <td>0.683758</td>\n",
       "      <td>1.225814</td>\n",
       "      <td>0.639113</td>\n",
       "      <td>0.716765</td>\n",
       "      <td>0.089295</td>\n",
       "      <td>0.657718</td>\n",
       "      <td>0.034213</td>\n",
       "      <td>-0.472679</td>\n",
       "      <td>...</td>\n",
       "      <td>0.127443</td>\n",
       "      <td>0.588590</td>\n",
       "      <td>-0.145728</td>\n",
       "      <td>-0.322900</td>\n",
       "      <td>-0.299744</td>\n",
       "      <td>-0.310295</td>\n",
       "      <td>0.248317</td>\n",
       "      <td>-0.011493</td>\n",
       "      <td>19.00</td>\n",
       "      <td>0</td>\n",
       "    </tr>\n",
       "    <tr>\n",
       "      <th>2</th>\n",
       "      <td>84694.0</td>\n",
       "      <td>-4.868108</td>\n",
       "      <td>1.264420</td>\n",
       "      <td>-5.167885</td>\n",
       "      <td>3.193648</td>\n",
       "      <td>-3.045621</td>\n",
       "      <td>-2.096166</td>\n",
       "      <td>-6.445610</td>\n",
       "      <td>2.422536</td>\n",
       "      <td>-3.214055</td>\n",
       "      <td>...</td>\n",
       "      <td>1.269205</td>\n",
       "      <td>0.057657</td>\n",
       "      <td>0.629307</td>\n",
       "      <td>-0.168432</td>\n",
       "      <td>0.443744</td>\n",
       "      <td>0.276539</td>\n",
       "      <td>1.441274</td>\n",
       "      <td>-0.127944</td>\n",
       "      <td>12.31</td>\n",
       "      <td>1</td>\n",
       "    </tr>\n",
       "    <tr>\n",
       "      <th>3</th>\n",
       "      <td>84695.0</td>\n",
       "      <td>1.013114</td>\n",
       "      <td>-0.334412</td>\n",
       "      <td>1.305208</td>\n",
       "      <td>0.837406</td>\n",
       "      <td>-1.126833</td>\n",
       "      <td>-0.064321</td>\n",
       "      <td>-0.594753</td>\n",
       "      <td>0.147737</td>\n",
       "      <td>0.536360</td>\n",
       "      <td>...</td>\n",
       "      <td>0.017079</td>\n",
       "      <td>0.112210</td>\n",
       "      <td>-0.016084</td>\n",
       "      <td>0.595033</td>\n",
       "      <td>0.201073</td>\n",
       "      <td>0.278215</td>\n",
       "      <td>0.007457</td>\n",
       "      <td>0.030762</td>\n",
       "      <td>66.60</td>\n",
       "      <td>0</td>\n",
       "    </tr>\n",
       "    <tr>\n",
       "      <th>4</th>\n",
       "      <td>84695.0</td>\n",
       "      <td>0.969231</td>\n",
       "      <td>-0.233554</td>\n",
       "      <td>0.238473</td>\n",
       "      <td>0.145793</td>\n",
       "      <td>-0.545741</td>\n",
       "      <td>-0.970680</td>\n",
       "      <td>0.347393</td>\n",
       "      <td>-0.209522</td>\n",
       "      <td>-0.342571</td>\n",
       "      <td>...</td>\n",
       "      <td>-0.362820</td>\n",
       "      <td>-1.417272</td>\n",
       "      <td>0.162136</td>\n",
       "      <td>0.541628</td>\n",
       "      <td>-0.079465</td>\n",
       "      <td>0.268702</td>\n",
       "      <td>-0.101237</td>\n",
       "      <td>0.028234</td>\n",
       "      <td>141.00</td>\n",
       "      <td>0</td>\n",
       "    </tr>\n",
       "  </tbody>\n",
       "</table>\n",
       "<p>5 rows × 31 columns</p>\n",
       "</div>"
      ],
      "text/plain": [
       "      Time        V1        V2        V3        V4        V5        V6  \\\n",
       "0  84692.0  1.125592 -0.147999  1.151008  1.158851 -0.823914  0.298829   \n",
       "1  84693.0 -0.439952  0.683758  1.225814  0.639113  0.716765  0.089295   \n",
       "2  84694.0 -4.868108  1.264420 -5.167885  3.193648 -3.045621 -2.096166   \n",
       "3  84695.0  1.013114 -0.334412  1.305208  0.837406 -1.126833 -0.064321   \n",
       "4  84695.0  0.969231 -0.233554  0.238473  0.145793 -0.545741 -0.970680   \n",
       "\n",
       "         V7        V8        V9  ...       V21       V22       V23       V24  \\\n",
       "0 -0.708732  0.294683  0.750838  ... -0.037453  0.024388 -0.052720 -0.003615   \n",
       "1  0.657718  0.034213 -0.472679  ...  0.127443  0.588590 -0.145728 -0.322900   \n",
       "2 -6.445610  2.422536 -3.214055  ...  1.269205  0.057657  0.629307 -0.168432   \n",
       "3 -0.594753  0.147737  0.536360  ...  0.017079  0.112210 -0.016084  0.595033   \n",
       "4  0.347393 -0.209522 -0.342571  ... -0.362820 -1.417272  0.162136  0.541628   \n",
       "\n",
       "        V25       V26       V27       V28  Amount  Class  \n",
       "0  0.405682 -0.404597  0.063357  0.024091   12.99      0  \n",
       "1 -0.299744 -0.310295  0.248317 -0.011493   19.00      0  \n",
       "2  0.443744  0.276539  1.441274 -0.127944   12.31      1  \n",
       "3  0.201073  0.278215  0.007457  0.030762   66.60      0  \n",
       "4 -0.079465  0.268702 -0.101237  0.028234  141.00      0  \n",
       "\n",
       "[5 rows x 31 columns]"
      ]
     },
     "execution_count": 3,
     "metadata": {},
     "output_type": "execute_result"
    }
   ],
   "source": [
    "data.head()"
   ]
  },
  {
   "cell_type": "code",
   "execution_count": 4,
   "metadata": {},
   "outputs": [
    {
     "name": "stdout",
     "output_type": "stream",
     "text": [
      "Counter({0: 95261, 1: 149})\n",
      "Counter({0: 46920, 1: 74})\n"
     ]
    }
   ],
   "source": [
    "from sklearn.model_selection import train_test_split\n",
    "\n",
    "\n",
    "X = data.drop('Class', axis=1)\n",
    "y = data['Class']\n",
    "\n",
    "seed = 7\n",
    "test_size = 0.33\n",
    "X_train, X_test, y_train, y_test = train_test_split(X, y, test_size=test_size, random_state=seed)\n",
    "\n",
    "from collections import Counter\n",
    "\n",
    "# summarize class distribution\n",
    "counter = Counter(y_train)\n",
    "print(counter)\n",
    "counter = Counter(y_test)\n",
    "print(counter)"
   ]
  },
  {
   "cell_type": "markdown",
   "metadata": {},
   "source": [
    "## Test without SMOTE"
   ]
  },
  {
   "cell_type": "code",
   "execution_count": 5,
   "metadata": {},
   "outputs": [
    {
     "name": "stderr",
     "output_type": "stream",
     "text": [
      "/usr/local/lib/python3.8/dist-packages/xgboost/sklearn.py:1224: UserWarning: The use of label encoder in XGBClassifier is deprecated and will be removed in a future release. To remove this warning, do the following: 1) Pass option use_label_encoder=False when constructing XGBClassifier object; and 2) Encode your labels (y) as integers starting with 0, i.e. 0, 1, 2, ..., [num_class - 1].\n",
      "  warnings.warn(label_encoder_deprecation_msg, UserWarning)\n"
     ]
    },
    {
     "name": "stdout",
     "output_type": "stream",
     "text": [
      "[16:42:49] WARNING: ../src/learner.cc:1115: Starting in XGBoost 1.3.0, the default evaluation metric used with the objective 'binary:logistic' was changed from 'error' to 'logloss'. Explicitly set eval_metric if you'd like to restore the old behavior.\n",
      "AUC: 0.17%\n",
      "[[46915     5]\n",
      " [   13    61]]\n",
      "              precision    recall  f1-score   support\n",
      "\n",
      "           0       1.00      1.00      1.00     46920\n",
      "           1       0.92      0.82      0.87        74\n",
      "\n",
      "    accuracy                           1.00     46994\n",
      "   macro avg       0.96      0.91      0.94     46994\n",
      "weighted avg       1.00      1.00      1.00     46994\n",
      "\n"
     ]
    }
   ],
   "source": [
    "import xgboost\n",
    "from xgboost import XGBClassifier\n",
    "from sklearn.metrics import precision_recall_fscore_support, auc, confusion_matrix, classification_report\n",
    "\n",
    "\n",
    "xgbmod = XGBClassifier()\n",
    "xgbmod.fit(X_train, y_train)\n",
    "y_pred = xgbmod.predict(X_test)\n",
    "predictions = [round(value) for value in y_pred]\n",
    "precision, recall, fbeta_score, support = precision_recall_fscore_support(y_test, predictions)\n",
    "result = auc(recall, precision)\n",
    "print(\"AUC: %.2f%%\" % (result))\n",
    "print(confusion_matrix(y_test, predictions))\n",
    "print(classification_report(y_test, predictions))"
   ]
  },
  {
   "cell_type": "markdown",
   "metadata": {},
   "source": [
    "### Oversample to be Equal Distribution"
   ]
  },
  {
   "cell_type": "code",
   "execution_count": 7,
   "metadata": {},
   "outputs": [],
   "source": [
    "from imblearn.over_sampling import SMOTE\n",
    "\n",
    "# transform the dataset\n",
    "oversample = SMOTE(sampling_strategy= 0.5, n_jobs=-1)\n",
    "X_train_over, y_train_over = oversample.fit_resample(X_train, y_train)"
   ]
  },
  {
   "cell_type": "code",
   "execution_count": 8,
   "metadata": {},
   "outputs": [
    {
     "name": "stdout",
     "output_type": "stream",
     "text": [
      "Counter({0: 95261, 1: 47630})\n"
     ]
    }
   ],
   "source": [
    "# summarize the new class distribution\n",
    "counter = Counter(y_train_over)\n",
    "print(counter)"
   ]
  },
  {
   "cell_type": "code",
   "execution_count": 9,
   "metadata": {},
   "outputs": [
    {
     "name": "stderr",
     "output_type": "stream",
     "text": [
      "/usr/local/lib/python3.8/dist-packages/xgboost/sklearn.py:1224: UserWarning: The use of label encoder in XGBClassifier is deprecated and will be removed in a future release. To remove this warning, do the following: 1) Pass option use_label_encoder=False when constructing XGBClassifier object; and 2) Encode your labels (y) as integers starting with 0, i.e. 0, 1, 2, ..., [num_class - 1].\n",
      "  warnings.warn(label_encoder_deprecation_msg, UserWarning)\n"
     ]
    },
    {
     "name": "stdout",
     "output_type": "stream",
     "text": [
      "[16:43:00] WARNING: ../src/learner.cc:1115: Starting in XGBoost 1.3.0, the default evaluation metric used with the objective 'binary:logistic' was changed from 'error' to 'logloss'. Explicitly set eval_metric if you'd like to restore the old behavior.\n",
      "AUC: 0.12%\n",
      "[[46903    17]\n",
      " [   10    64]]\n",
      "              precision    recall  f1-score   support\n",
      "\n",
      "           0       1.00      1.00      1.00     46920\n",
      "           1       0.79      0.86      0.83        74\n",
      "\n",
      "    accuracy                           1.00     46994\n",
      "   macro avg       0.89      0.93      0.91     46994\n",
      "weighted avg       1.00      1.00      1.00     46994\n",
      "\n"
     ]
    }
   ],
   "source": [
    "xgbmod = XGBClassifier()\n",
    "xgbmod.fit(X_train_over, y_train_over)\n",
    "y_pred = xgbmod.predict(X_test)\n",
    "predictions = [round(value) for value in y_pred]\n",
    "precision, recall, fbeta_score, support = precision_recall_fscore_support(y_test, predictions)\n",
    "result = auc(recall, precision)\n",
    "print(\"AUC: %.2f%%\" % (result))\n",
    "print(confusion_matrix(y_test, predictions))\n",
    "print(classification_report(y_test, predictions))"
   ]
  },
  {
   "cell_type": "code",
   "execution_count": null,
   "metadata": {},
   "outputs": [],
   "source": []
  },
  {
   "cell_type": "code",
   "execution_count": null,
   "metadata": {},
   "outputs": [],
   "source": []
  }
 ],
 "metadata": {
  "kernelspec": {
   "display_name": "Python 3",
   "language": "python",
   "name": "python3"
  },
  "language_info": {
   "codemirror_mode": {
    "name": "ipython",
    "version": 3
   },
   "file_extension": ".py",
   "mimetype": "text/x-python",
   "name": "python",
   "nbconvert_exporter": "python",
   "pygments_lexer": "ipython3",
   "version": "3.8.10"
  }
 },
 "nbformat": 4,
 "nbformat_minor": 4
}
