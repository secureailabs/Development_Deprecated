{
 "cells": [
  {
   "cell_type": "code",
   "execution_count": 1,
   "metadata": {},
   "outputs": [],
   "source": [
    "from sail.core import VMSetup, registersafeobj,login,connect,pushsafeobj,querydata,get_fns\n",
    "from sail.data import RemoteDataFrame, Utils\n",
    "from sail.algo import fdxgb\n",
    "import time\n",
    "start_time = time.time()"
   ]
  },
  {
   "cell_type": "code",
   "execution_count": 2,
   "metadata": {},
   "outputs": [
    {
     "name": "stdout",
     "output_type": "stream",
     "text": [
      "[P]safe objects registered\n"
     ]
    }
   ],
   "source": [
    "import json, requests\n",
    "soPath = \"/Development/Milestone3/EndPointTools/SafeObjectEditor/KPMG/safeobjects\"\n",
    "contractdict = [{\"DigitalContractGuid\":\"{3D99F9E7-6959-44AF-B561-4DFF33F71022}\"}, {\"DigitalContractGuid\":\"{391BDC04-E76A-4F88-8256-C56B653F82C9}\"}]\n",
    "backendIP = \"52.150.26.47\"\n",
    "\n",
    "registersafeobj(soPath)\n",
    "print(\"[P]safe objects registered\")"
   ]
  },
  {
   "cell_type": "code",
   "execution_count": 3,
   "metadata": {},
   "outputs": [
    {
     "name": "stdout",
     "output_type": "stream",
     "text": [
      "[P]login success\n",
      "5iEQAhtloSOFogbuEsLeHGsSm4ahEdllcvGMBbA69ACxuxoRamb1ApBRQNeq6wKEAw8Ftw0DAAAyzqZbd1pN3oDP0dn0EYtPDQX5DR8OwrYegI3EpixUR4uiNgMspBV7bCdY1lgXyZKhGsY9QwXwLZKX7vq0n9CBd9ywrVLyB0e97xpmsy+Uzidg1W3AHmI4e51uRpoqE4Tu/dGpfE2+ki/BTuQMbgDU9zdRu+6UZKTd9NVG9lBNmbFBaNJvFwwoBcchDtw8sxhRNdLEdO46utcVfB2MKIAw0jm755TKKTiUNEQ6cxXpNJZj9YNlKdX7pQSJhON8+B/K5di3MvTjbL2Qa8SpELR0yydAO4JPVqb4dg84E6HcJ01RwiR6IwF5vSHUPc30H8Dio9jU5eVlaJjHhzDFET3U0bT/xue5kbXStJ4PKFxHmcEw5qNK0hJK/fGYBAgY2N/azpEO/kUx4kBkhRspxBrvoYEgls7CbY3/pT9+S3cN820rWT2CAUti4pKVipc/+U7KaT59VL3iOu4NHy5CR/Vz4jgqdycTsRTS9X4y2TYLq6Ablo207SPRw6Ho5e/fE9fm5iRJPu1NjBx+x3G1thA8ATFsXDHrOsGL7MkKTuw/+ULQkA2g+GS1teLkzpfMi9Tri0kFge6u2KOYF7i5UI7lCfqusiK1UsJGbPpIm5VUrRO70TnDxDlIRIWn1mm3yLvArUiik2UZ74kOPSBHmsizTKwZGE4GDWxVXLZOO3vInhUlFN+JFM6g5UXrCGCBGGvyn0yzoK1QAHksEcOWaMDmAVARGPhlVETsgaMR/0qXerQytTDFQjtpeD62yVYZTtHIBqma1jmfX3+MwzD3Dp59+iWmLtf/ENh9jxn+yRRxTENUrHlzmyRza5ConO4+Ibc6vLULg+avrJT3FHSR83MsSC6VtNxbEWLXDCxsllRAPqxmeJigSCv9o/IsNYES6JJ2gp/ekAwCR3l7vxyfo7zmkiuoyQSusz+2uJTE8Duj80xtOaOWDd+0+qcJGP1aUz38cWe29PoELys0kqW/Vx1wDXP5oMkQayh+LPcn5XrIZkW7r6CxXGt7effG0tIXNcdRugS/9le+ttLqjO+CMhpWsSmREm4=\n"
     ]
    }
   ],
   "source": [
    "eosb = login(\"r@r.r\", \"SailPassword@123\", 6200, backendIP)\n",
    "print(\"[P]login success\")\n",
    "print(eosb)"
   ]
  },
  {
   "cell_type": "code",
   "execution_count": 4,
   "metadata": {},
   "outputs": [
    {
     "name": "stdout",
     "output_type": "stream",
     "text": [
      "{\"DigitalContractGuid\": \"{3D99F9E7-6959-44AF-B561-4DFF33F71022}\"}\n"
     ]
    },
    {
     "name": "stderr",
     "output_type": "stream",
     "text": [
      "/usr/local/lib/python3.8/dist-packages/urllib3/connectionpool.py:1013: InsecureRequestWarning: Unverified HTTPS request is being made to host '52.150.26.47'. Adding certificate verification is strongly advised. See: https://urllib3.readthedocs.io/en/1.26.x/advanced-usage.html#ssl-warnings\n",
      "  warnings.warn(\n"
     ]
    },
    {
     "name": "stdout",
     "output_type": "stream",
     "text": [
      "{'Status': 200.0, 'VirtualMachines': {'ECCCE3A1785C4594A2F626826E9FD97E': '20.102.60.41'}}\n",
      "['20.102.60.41']\n",
      "{\"DigitalContractGuid\": \"{391BDC04-E76A-4F88-8256-C56B653F82C9}\"}\n",
      "{'Status': 200.0, 'VirtualMachines': {'48DAD1EFC8A044F89BBB374988602836': '20.120.95.58'}}\n",
      "['20.102.60.41', '20.120.95.58']\n"
     ]
    },
    {
     "name": "stderr",
     "output_type": "stream",
     "text": [
      "/usr/local/lib/python3.8/dist-packages/urllib3/connectionpool.py:1013: InsecureRequestWarning: Unverified HTTPS request is being made to host '52.150.26.47'. Adding certificate verification is strongly advised. See: https://urllib3.readthedocs.io/en/1.26.x/advanced-usage.html#ssl-warnings\n",
      "  warnings.warn(\n"
     ]
    }
   ],
   "source": [
    "url = \"https://\"+backendIP+\":6200/SAIL/VirtualMachineManager/GetRunningVMsIpAdresses?Eosb=\"+eosb\n",
    "\n",
    "payloads = []\n",
    "for item in contractdict:\n",
    "    temp = json.dumps(item)\n",
    "    payloads.append(temp)\n",
    "\n",
    "headers = {\n",
    "    'Content-Type': 'application/json'\n",
    "}\n",
    "\n",
    "ips = []\n",
    "for payload in payloads:\n",
    "    print(payload)\n",
    "    response = requests.request(\"GET\", url, headers=headers, data=payload, verify=False)\n",
    "    response = response.json()\n",
    "    print(response)\n",
    "    for key in response['VirtualMachines']:\n",
    "        ips.append(response['VirtualMachines'][key])\n",
    "        print(ips)"
   ]
  },
  {
   "cell_type": "code",
   "execution_count": 5,
   "metadata": {},
   "outputs": [
    {
     "name": "stdout",
     "output_type": "stream",
     "text": [
      "[P]virtual machine connection to ip: 20.120.95.58 success\n",
      "[P]safe object pushed to virtual machines\n",
      "[P]obtain table ids\n"
     ]
    }
   ],
   "source": [
    "vmids = []\n",
    "for ip in ips:\n",
    "    vmid = connect(ip, 3500)\n",
    "    vmids.append(vmid)\n",
    "print(\"[P]virtual machine connection to ip: {0} success\".format(ip), flush=True)\n",
    "    \n",
    "fns = get_fns()\n",
    "for vm in vmids:\n",
    "    for key in fns:\n",
    "        pushsafeobj(vm, fns[key])\n",
    "print(\"[P]safe object pushed to virtual machines\" , flush=True)\n",
    "\n",
    "table = []\n",
    "for vm in vmids:\n",
    "    tableid = querydata(vm)\n",
    "    table.append(tableid)\n",
    "print(\"[P]obtain table ids\", flush=True)"
   ]
  },
  {
   "cell_type": "code",
   "execution_count": 6,
   "metadata": {},
   "outputs": [
    {
     "data": {
      "text/plain": [
       "[{'imbalanced credit card fraud 1': '768D80FEC210E8468B4F027AABCAFB42'},\n",
       " {'imbalanced credit card fraud 2': 'F5D68A24D86DFC45BA3CC79CED4EFA0D'}]"
      ]
     },
     "execution_count": 6,
     "metadata": {},
     "output_type": "execute_result"
    }
   ],
   "source": [
    "table"
   ]
  },
  {
   "cell_type": "code",
   "execution_count": 7,
   "metadata": {},
   "outputs": [
    {
     "name": "stdout",
     "output_type": "stream",
     "text": [
      "16.017621755599976\n"
     ]
    }
   ],
   "source": [
    "#read in datasets\n",
    "\n",
    "mid_time = time.time()\n",
    "\n",
    "u1 = Utils(vmids[0], fns)\n",
    "u2 = Utils(vmids[1], fns)\n",
    "df1 = u1.read_csv(table[0]['imbalanced credit card fraud 1'])\n",
    "df2 = u2.read_csv(table[1]['imbalanced credit card fraud 2'])\n",
    "dfs = [df1, df2]\n",
    "\n",
    "print(time.time() - mid_time)"
   ]
  },
  {
   "cell_type": "code",
   "execution_count": 8,
   "metadata": {},
   "outputs": [],
   "source": [
    "#create remote dataframes so we can drop the label\n",
    "n=2\n",
    "data1 = RemoteDataFrame(vmids[0], df1, fns)\n",
    "data2 = RemoteDataFrame(vmids[1], df2, fns)\n",
    "data = [data1, data2]"
   ]
  },
  {
   "cell_type": "code",
   "execution_count": 9,
   "metadata": {},
   "outputs": [
    {
     "name": "stdout",
     "output_type": "stream",
     "text": [
      "Index(['Time', 'V1', 'V2', 'V3', 'V4', 'V5', 'V6', 'V7', 'V8', 'V9', 'V10',\n",
      "       'V11', 'V12', 'V13', 'V14', 'V15', 'V16', 'V17', 'V18', 'V19', 'V20',\n",
      "       'V21', 'V22', 'V23', 'V24', 'V25', 'V26', 'V27', 'V28', 'Amount',\n",
      "       'Class'],\n",
      "      dtype='object')\n"
     ]
    }
   ],
   "source": [
    "#print columns of the remote dataframe, use this to set our fdgxb feature number\n",
    "cols = []\n",
    "cols.append(data1.columns)\n",
    "cols.append(data2.columns)\n",
    "\n",
    "dim = len(cols[0])-2\n",
    "fdxgbmod = fdxgb(vmids, params={'max_depth': 8 }, feature_num = dim)\n",
    "print(cols[0])"
   ]
  },
  {
   "cell_type": "code",
   "execution_count": 10,
   "metadata": {},
   "outputs": [],
   "source": [
    "#drop label from X data, select only label for y data\n",
    "\n",
    "y=[]\n",
    "X=[]\n",
    "n=2\n",
    "for i in range(n):\n",
    "    y.append(data[i]['Class'])\n",
    "    X.append(data[i].drop('Class', axis = 1))"
   ]
  },
  {
   "cell_type": "code",
   "execution_count": 11,
   "metadata": {},
   "outputs": [
    {
     "name": "stdout",
     "output_type": "stream",
     "text": [
      "0    142133\n",
      "1       269\n",
      "Name: Class, dtype: int64\n",
      "0    142180\n",
      "1       223\n",
      "Name: Class, dtype: int64\n"
     ]
    }
   ],
   "source": [
    "#Check value counts for y\n",
    "print(y[0].value_counts())\n",
    "print(y[1].value_counts())"
   ]
  },
  {
   "cell_type": "code",
   "execution_count": 12,
   "metadata": {},
   "outputs": [
    {
     "data": {
      "text/plain": [
       "['{CA497E4C-0329-47D8-9722-E69127019061}.048E16B349F8450694B1B30E0E49E6CE',\n",
       " '{23DE9E39-3B57-44F4-8581-CE989F29A8F6}.048E16B349F8450694B1B30E0E49E6CE']"
      ]
     },
     "execution_count": 12,
     "metadata": {},
     "output_type": "execute_result"
    }
   ],
   "source": [
    "#change y from remote series to the corresponding data-ids\n",
    "y_new = []\n",
    "for item in y:\n",
    "    y_new.append(item.data_id)\n",
    "y=y_new"
   ]
  },
  {
   "cell_type": "code",
   "execution_count": 13,
   "metadata": {},
   "outputs": [
    {
     "data": {
      "text/plain": [
       "Index(['Time', 'V1', 'V2', 'V3', 'V4', 'V5', 'V6', 'V7', 'V8', 'V9', 'V10',\n",
       "       'V11', 'V12', 'V13', 'V14', 'V15', 'V16', 'V17', 'V18', 'V19', 'V20',\n",
       "       'V21', 'V22', 'V23', 'V24', 'V25', 'V26', 'V27', 'V28', 'Amount'],\n",
       "      dtype='object')"
      ]
     },
     "execution_count": 13,
     "metadata": {},
     "output_type": "execute_result"
    }
   ],
   "source": [
    "#check that x is actually the correct shape\n",
    "test1 = RemoteDataFrame(vmids[0], X[0], fns)\n",
    "test1.columns"
   ]
  },
  {
   "cell_type": "code",
   "execution_count": 14,
   "metadata": {},
   "outputs": [
    {
     "data": {
      "text/plain": [
       "['{CA497E4C-0329-47D8-9722-E69127019061}.048E16B349F8450694B1B30E0E49E6CE',\n",
       " '{23DE9E39-3B57-44F4-8581-CE989F29A8F6}.048E16B349F8450694B1B30E0E49E6CE']"
      ]
     },
     "execution_count": 14,
     "metadata": {},
     "output_type": "execute_result"
    }
   ],
   "source": [
    "#ensure y is a data id and not a remote series\n",
    "y"
   ]
  },
  {
   "cell_type": "code",
   "execution_count": 15,
   "metadata": {},
   "outputs": [
    {
     "data": {
      "text/plain": [
       "['{8D1D16C2-3C81-45DE-A241-8BCCC7CABF70}.2AE27D27AE4C4B6BAD3136BAC75B1667',\n",
       " '{633A6D9A-EE06-4A6D-A431-452CBD7D3297}.2AE27D27AE4C4B6BAD3136BAC75B1667']"
      ]
     },
     "execution_count": 15,
     "metadata": {},
     "output_type": "execute_result"
    }
   ],
   "source": [
    "#ensure X is a data id and not a remote dataframe\n",
    "X"
   ]
  },
  {
   "cell_type": "code",
   "execution_count": 16,
   "metadata": {},
   "outputs": [
    {
     "name": "stdout",
     "output_type": "stream",
     "text": [
      "job: {BE5AF29A-42CD-4574-A460-A0C875CE6132} is failed\n",
      "job: {7BD030DF-6E41-4239-A9A8-F5296BB48B7E} is failed\n"
     ]
    },
    {
     "ename": "TypeError",
     "evalue": "'NoneType' object is not subscriptable",
     "output_type": "error",
     "traceback": [
      "\u001b[0;31m---------------------------------------------------------------------------\u001b[0m",
      "\u001b[0;31mTypeError\u001b[0m                                 Traceback (most recent call last)",
      "\u001b[0;32m<ipython-input-16-5e7ad6d7be4c>\u001b[0m in \u001b[0;36m<module>\u001b[0;34m\u001b[0m\n\u001b[1;32m      3\u001b[0m \u001b[0mmid_time\u001b[0m \u001b[0;34m=\u001b[0m \u001b[0mtime\u001b[0m\u001b[0;34m.\u001b[0m\u001b[0mtime\u001b[0m\u001b[0;34m(\u001b[0m\u001b[0;34m)\u001b[0m\u001b[0;34m\u001b[0m\u001b[0;34m\u001b[0m\u001b[0m\n\u001b[1;32m      4\u001b[0m \u001b[0;34m\u001b[0m\u001b[0m\n\u001b[0;32m----> 5\u001b[0;31m \u001b[0mmodel\u001b[0m \u001b[0;34m=\u001b[0m \u001b[0mfdxgbmod\u001b[0m\u001b[0;34m.\u001b[0m\u001b[0mfit\u001b[0m\u001b[0;34m(\u001b[0m\u001b[0mX\u001b[0m\u001b[0;34m,\u001b[0m\u001b[0my\u001b[0m\u001b[0;34m)\u001b[0m\u001b[0;34m\u001b[0m\u001b[0;34m\u001b[0m\u001b[0m\n\u001b[0m\u001b[1;32m      6\u001b[0m \u001b[0;34m\u001b[0m\u001b[0m\n\u001b[1;32m      7\u001b[0m \u001b[0mprint\u001b[0m\u001b[0;34m(\u001b[0m\u001b[0mtime\u001b[0m\u001b[0;34m.\u001b[0m\u001b[0mtime\u001b[0m\u001b[0;34m(\u001b[0m\u001b[0;34m)\u001b[0m \u001b[0;34m-\u001b[0m \u001b[0mmid_time\u001b[0m\u001b[0;34m)\u001b[0m\u001b[0;34m\u001b[0m\u001b[0;34m\u001b[0m\u001b[0m\n",
      "\u001b[0;32m/usr/local/lib/python3.8/dist-packages/sail/algo/fdxgb.py\u001b[0m in \u001b[0;36mfit\u001b[0;34m(self, X, y)\u001b[0m\n\u001b[1;32m    356\u001b[0m         \u001b[0mL\u001b[0m \u001b[0;34m=\u001b[0m \u001b[0mmin\u001b[0m\u001b[0;34m(\u001b[0m\u001b[0;36m40\u001b[0m\u001b[0;34m,\u001b[0m \u001b[0mself\u001b[0m\u001b[0;34m.\u001b[0m\u001b[0mfeature_num\u001b[0m\u001b[0;34m)\u001b[0m\u001b[0;34m\u001b[0m\u001b[0;34m\u001b[0m\u001b[0m\n\u001b[1;32m    357\u001b[0m         \u001b[0mself\u001b[0m\u001b[0;34m.\u001b[0m\u001b[0mgen_hashfn\u001b[0m\u001b[0;34m(\u001b[0m\u001b[0mself\u001b[0m\u001b[0;34m.\u001b[0m\u001b[0mfeature_num\u001b[0m\u001b[0;34m,\u001b[0m \u001b[0mself\u001b[0m\u001b[0;34m.\u001b[0m\u001b[0mhash_r\u001b[0m\u001b[0;34m,\u001b[0m \u001b[0mL\u001b[0m\u001b[0;34m,\u001b[0m \u001b[0mself\u001b[0m\u001b[0;34m.\u001b[0m\u001b[0mhash_mu\u001b[0m\u001b[0;34m,\u001b[0m \u001b[0mself\u001b[0m\u001b[0;34m.\u001b[0m\u001b[0mhash_sigma\u001b[0m\u001b[0;34m)\u001b[0m\u001b[0;34m\u001b[0m\u001b[0;34m\u001b[0m\u001b[0m\n\u001b[0;32m--> 358\u001b[0;31m         \u001b[0mself\u001b[0m\u001b[0;34m.\u001b[0m\u001b[0mgen_hashtables\u001b[0m\u001b[0;34m(\u001b[0m\u001b[0mX\u001b[0m\u001b[0;34m)\u001b[0m\u001b[0;34m\u001b[0m\u001b[0;34m\u001b[0m\u001b[0m\n\u001b[0m\u001b[1;32m    359\u001b[0m         \u001b[0mself\u001b[0m\u001b[0;34m.\u001b[0m\u001b[0mmodel\u001b[0m \u001b[0;34m=\u001b[0m \u001b[0mself\u001b[0m\u001b[0;34m.\u001b[0m\u001b[0minit_model\u001b[0m\u001b[0;34m(\u001b[0m\u001b[0;34m)\u001b[0m\u001b[0;34m\u001b[0m\u001b[0;34m\u001b[0m\u001b[0m\n\u001b[1;32m    360\u001b[0m         \u001b[0mmodel\u001b[0m \u001b[0;34m=\u001b[0m \u001b[0mself\u001b[0m\u001b[0;34m.\u001b[0m\u001b[0mtrain\u001b[0m\u001b[0;34m(\u001b[0m\u001b[0mself\u001b[0m\u001b[0;34m.\u001b[0m\u001b[0mmodel\u001b[0m\u001b[0;34m,\u001b[0m \u001b[0mX\u001b[0m\u001b[0;34m,\u001b[0m \u001b[0my\u001b[0m\u001b[0;34m)\u001b[0m\u001b[0;34m\u001b[0m\u001b[0;34m\u001b[0m\u001b[0m\n",
      "\u001b[0;32m/usr/local/lib/python3.8/dist-packages/sail/algo/fdxgb.py\u001b[0m in \u001b[0;36mgen_hashtables\u001b[0;34m(self, X)\u001b[0m\n\u001b[1;32m    195\u001b[0m         \u001b[0mresult\u001b[0m \u001b[0;34m=\u001b[0m \u001b[0mqueryresults_parallel\u001b[0m\u001b[0;34m(\u001b[0m\u001b[0mjobids\u001b[0m\u001b[0;34m,\u001b[0m \u001b[0mself\u001b[0m\u001b[0;34m.\u001b[0m\u001b[0mfns\u001b[0m\u001b[0;34m[\u001b[0m\u001b[0;34m'handlehash'\u001b[0m\u001b[0;34m]\u001b[0m\u001b[0;34m)\u001b[0m\u001b[0;34m\u001b[0m\u001b[0;34m\u001b[0m\u001b[0m\n\u001b[1;32m    196\u001b[0m         \u001b[0;32mfor\u001b[0m \u001b[0mi\u001b[0m \u001b[0;32min\u001b[0m \u001b[0mrange\u001b[0m\u001b[0;34m(\u001b[0m\u001b[0mlen\u001b[0m\u001b[0;34m(\u001b[0m\u001b[0mresult\u001b[0m\u001b[0;34m)\u001b[0m\u001b[0;34m)\u001b[0m\u001b[0;34m:\u001b[0m\u001b[0;34m\u001b[0m\u001b[0;34m\u001b[0m\u001b[0m\n\u001b[0;32m--> 197\u001b[0;31m             \u001b[0mall_hashes\u001b[0m\u001b[0;34m.\u001b[0m\u001b[0mappend\u001b[0m\u001b[0;34m(\u001b[0m\u001b[0mresult\u001b[0m\u001b[0;34m[\u001b[0m\u001b[0mi\u001b[0m\u001b[0;34m]\u001b[0m\u001b[0;34m[\u001b[0m\u001b[0;36m0\u001b[0m\u001b[0;34m]\u001b[0m\u001b[0;34m[\u001b[0m\u001b[0;34m'hash_values'\u001b[0m\u001b[0;34m]\u001b[0m\u001b[0;34m)\u001b[0m\u001b[0;34m\u001b[0m\u001b[0;34m\u001b[0m\u001b[0m\n\u001b[0m\u001b[1;32m    198\u001b[0m             \u001b[0mall_counters\u001b[0m\u001b[0;34m.\u001b[0m\u001b[0mappend\u001b[0m\u001b[0;34m(\u001b[0m\u001b[0mresult\u001b[0m\u001b[0;34m[\u001b[0m\u001b[0mi\u001b[0m\u001b[0;34m]\u001b[0m\u001b[0;34m[\u001b[0m\u001b[0;36m0\u001b[0m\u001b[0;34m]\u001b[0m\u001b[0;34m[\u001b[0m\u001b[0;34m'counters'\u001b[0m\u001b[0;34m]\u001b[0m\u001b[0;34m)\u001b[0m\u001b[0;34m\u001b[0m\u001b[0;34m\u001b[0m\u001b[0m\n\u001b[1;32m    199\u001b[0m \u001b[0;34m\u001b[0m\u001b[0m\n",
      "\u001b[0;31mTypeError\u001b[0m: 'NoneType' object is not subscriptable"
     ]
    }
   ],
   "source": [
    "#run training\n",
    "\n",
    "mid_time = time.time()\n",
    "\n",
    "model = fdxgbmod.fit(X,y)\n",
    "\n",
    "print(time.time() - mid_time)"
   ]
  },
  {
   "cell_type": "code",
   "execution_count": null,
   "metadata": {},
   "outputs": [],
   "source": [
    "mid_time = time.time()\n",
    "results =  fdxgbmod.aucpr_score(model, X, y)\n",
    "print(time.time() - mid_time)"
   ]
  },
  {
   "cell_type": "code",
   "execution_count": null,
   "metadata": {},
   "outputs": [],
   "source": [
    "results"
   ]
  },
  {
   "cell_type": "code",
   "execution_count": null,
   "metadata": {},
   "outputs": [],
   "source": [
    "precision = results[0][0]\n",
    "recall = results[0][1]\n",
    "import numpy as np\n",
    "#precision = np.append(precision, [1])\n",
    "#print(precision)\n",
    "#print(recall)\n",
    "from sklearn.metrics import PrecisionRecallDisplay\n",
    "import matplotlib.pyplot as plt\n",
    "disp = PrecisionRecallDisplay(precision=precision, recall=recall)\n",
    "disp.plot()"
   ]
  },
  {
   "cell_type": "code",
   "execution_count": null,
   "metadata": {},
   "outputs": [],
   "source": [
    "mid_time = time.time()\n",
    "\n",
    "fdxgbmod.model = model\n",
    "fdxgbmod.shap(X)\n",
    "\n",
    "print(time.time() - mid_time)"
   ]
  }
 ],
 "metadata": {
  "kernelspec": {
   "display_name": "Python 3",
   "language": "python",
   "name": "python3"
  },
  "language_info": {
   "codemirror_mode": {
    "name": "ipython",
    "version": 3
   },
   "file_extension": ".py",
   "mimetype": "text/x-python",
   "name": "python",
   "nbconvert_exporter": "python",
   "pygments_lexer": "ipython3",
   "version": "3.8.10"
  }
 },
 "nbformat": 4,
 "nbformat_minor": 5
}
