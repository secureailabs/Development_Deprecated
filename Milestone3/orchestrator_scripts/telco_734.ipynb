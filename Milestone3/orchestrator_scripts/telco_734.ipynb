{
 "cells": [
  {
   "cell_type": "code",
   "execution_count": 1,
   "metadata": {},
   "outputs": [],
   "source": [
    "from sail.core import VMSetup, registersafeobj,login,connect,pushsafeobj,querydata,get_fns\n",
    "from sail.data import RemoteDataFrame, Utils\n",
    "from sail.algo import fdxgb\n",
    "import time\n",
    "start_time = time.time()"
   ]
  },
  {
   "cell_type": "code",
   "execution_count": 2,
   "metadata": {},
   "outputs": [
    {
     "name": "stdout",
     "output_type": "stream",
     "text": [
      "[P]safe objects registered\n"
     ]
    }
   ],
   "source": [
    "import json, requests\n",
    "soPath = \"/Development/Milestone3/EndPointTools/SafeObjectEditor/KPMG/safeobjects\"\n",
    "contractdict = [{\"DigitalContractGuid\":\"{327D1DC7-8235-4DE8-9F64-AD79D5545407}\"}, {\"DigitalContractGuid\":\"{33A6ADFE-7C3E-44E5-9D6E-28CA231B0B7D}\"}]\n",
    "backendIP = \"52.150.26.47\"\n",
    "\n",
    "registersafeobj(soPath)\n",
    "print(\"[P]safe objects registered\")"
   ]
  },
  {
   "cell_type": "code",
   "execution_count": 3,
   "metadata": {},
   "outputs": [
    {
     "name": "stdout",
     "output_type": "stream",
     "text": [
      "[P]login success\n",
      "5iEQAhtloSO1731zhE5c3D3HwvM5ffc6xTFqUZmGICB8IBbu95Sc/eyoTkSz3HMByDEkXA0DAAAMjafdc0WbTpsr8Ip+7wbJkNqFsb1C7fjWg3DX8Gnm2bf/03PlSJSFXk7n6FPx95EF5UTJszhFNXGaEex7w2s8dB5YmILAhbJLR7qJZAhWDjt4F+Dj4aoAMqFO5XaH8r+PZYq5irFkRdiaufAmA4Mx8s+L5z0Jpqj07VDcLwRrZNt1woV4fT8GBLYyLPKud5qThdQ/qU15ucmUb5VsjxuMCwm64evd+5J3EhXoDlhc3HabghEmSxCAY7nhJc9MBIDMgSx5SVLlCdabwdQvE9wBEKLTDDVzDKbc2zzafzRB1ycu8Xg7yqdeaiiyzrIkejHzOL12XsD+zEJIbndJFcdYDhEyPYMyXFzwj5u/NY/THHjn7kxsMQ/qzTPsJ7vbkpZq6ZTAyDHsZh1J6/v3idczOL5ULZ+nOSAmb/mEwMZZRbZLyEYMXs9aQLZJ7jyazcZNUigyJQkpcUcFikZqNTON2mgx2/kQmZr+l7lvmaRxnt1MhhXlMVZAAXB9vwSwKDQwMUpp4W87XWcx4uL8MgKmAV6QcYhs3upFdiYU8/VSlUIRiOerO3OCYgg6rzJN6kp12yCEb9/UKMJ0HSg0d8/IT6bWp3tLWSWkkfj2pLzjfmSug+xN59JkFVBMgRcQ8cPQY37FbDsnVxgbrQeDXe/amFlW1M0mjhvY3BRPdrG304gP5EYhrfxcXmNI2JRvWtJ0B1MEuf4xtMsVYzno1z8Jt0OvWID9xDTBHZU3NM9dtac/bw5gBm8S7Sjf3nNgMSUQ1pvcU5szZ1Lo7C6nxbS7GzO1bRWKV8fTWstIcbM8f6tuwMUezZ1fid+ep+kTnPJrSQY6GyNs61yU91Js3XCkPWjqZvXRlEG5hQpibxjoufuD1icdpZFSNfaD/1jNiOjYawKPzmgOu/7rqom7iDXH7VqTl/AZZZRNqG3c1oVTo/wDuWbv0m+8r+ry40ErcjJORqWS7mdib1+yzD0gp2Hq/5DDkYO6LQThJ/8ujMUebzpTqEsWlNbsOIcJPyYT68YOIH1nLK6Fb1Gw51mSMhpWsSmREm4=\n"
     ]
    }
   ],
   "source": [
    "eosb = login(\"r@r.r\", \"SailPassword@123\", 6200, backendIP)\n",
    "print(\"[P]login success\")\n",
    "print(eosb)"
   ]
  },
  {
   "cell_type": "code",
   "execution_count": 4,
   "metadata": {},
   "outputs": [
    {
     "name": "stdout",
     "output_type": "stream",
     "text": [
      "{\"DigitalContractGuid\": \"{327D1DC7-8235-4DE8-9F64-AD79D5545407}\"}\n"
     ]
    },
    {
     "name": "stderr",
     "output_type": "stream",
     "text": [
      "/usr/local/lib/python3.8/dist-packages/urllib3/connectionpool.py:1013: InsecureRequestWarning: Unverified HTTPS request is being made to host '52.150.26.47'. Adding certificate verification is strongly advised. See: https://urllib3.readthedocs.io/en/1.26.x/advanced-usage.html#ssl-warnings\n",
      "  warnings.warn(\n"
     ]
    },
    {
     "name": "stdout",
     "output_type": "stream",
     "text": [
      "{'Status': 200.0, 'VirtualMachines': {'353C6789833F464E8114894D51F88E58': '20.115.36.162'}}\n",
      "['20.115.36.162']\n",
      "{\"DigitalContractGuid\": \"{33A6ADFE-7C3E-44E5-9D6E-28CA231B0B7D}\"}\n",
      "{'Status': 200.0, 'VirtualMachines': {'A0FFA99E3E534B0BB214BF87D732FCA9': '52.149.179.105'}}\n",
      "['20.115.36.162', '52.149.179.105']\n"
     ]
    },
    {
     "name": "stderr",
     "output_type": "stream",
     "text": [
      "/usr/local/lib/python3.8/dist-packages/urllib3/connectionpool.py:1013: InsecureRequestWarning: Unverified HTTPS request is being made to host '52.150.26.47'. Adding certificate verification is strongly advised. See: https://urllib3.readthedocs.io/en/1.26.x/advanced-usage.html#ssl-warnings\n",
      "  warnings.warn(\n"
     ]
    }
   ],
   "source": [
    "url = \"https://\"+backendIP+\":6200/SAIL/VirtualMachineManager/GetRunningVMsIpAdresses?Eosb=\"+eosb\n",
    "\n",
    "payloads = []\n",
    "for item in contractdict:\n",
    "    temp = json.dumps(item)\n",
    "    payloads.append(temp)\n",
    "\n",
    "headers = {\n",
    "    'Content-Type': 'application/json'\n",
    "}\n",
    "\n",
    "ips = []\n",
    "for payload in payloads:\n",
    "    print(payload)\n",
    "    response = requests.request(\"GET\", url, headers=headers, data=payload, verify=False)\n",
    "    response = response.json()\n",
    "    print(response)\n",
    "    for key in response['VirtualMachines']:\n",
    "        ips.append(response['VirtualMachines'][key])\n",
    "        print(ips)"
   ]
  },
  {
   "cell_type": "code",
   "execution_count": 5,
   "metadata": {},
   "outputs": [
    {
     "name": "stdout",
     "output_type": "stream",
     "text": [
      "[P]virtual machine connection to ip: 52.149.179.105 success\n",
      "[P]safe object pushed to virtual machines\n",
      "[P]obtain table ids\n"
     ]
    }
   ],
   "source": [
    "vmids = []\n",
    "for ip in ips:\n",
    "    vmid = connect(ip, 3500)\n",
    "    vmids.append(vmid)\n",
    "print(\"[P]virtual machine connection to ip: {0} success\".format(ip), flush=True)\n",
    "    \n",
    "fns = get_fns()\n",
    "for vm in vmids:\n",
    "    for key in fns:\n",
    "        pushsafeobj(vm, fns[key])\n",
    "print(\"[P]safe object pushed to virtual machines\" , flush=True)\n",
    "\n",
    "table = []\n",
    "for vm in vmids:\n",
    "    tableid = querydata(vm)\n",
    "    table.append(tableid)\n",
    "print(\"[P]obtain table ids\", flush=True)"
   ]
  },
  {
   "cell_type": "code",
   "execution_count": 6,
   "metadata": {},
   "outputs": [
    {
     "data": {
      "text/plain": [
       "[{'Telco1_split_1': 'F49CBDE2C8B685499CF1563D107683C4'},\n",
       " {'Telco1_split_2': '723857D0F2593848BB1714A2869CFAF1'}]"
      ]
     },
     "execution_count": 6,
     "metadata": {},
     "output_type": "execute_result"
    }
   ],
   "source": [
    "table"
   ]
  },
  {
   "cell_type": "code",
   "execution_count": 7,
   "metadata": {},
   "outputs": [
    {
     "name": "stdout",
     "output_type": "stream",
     "text": [
      "8.009582757949829\n"
     ]
    }
   ],
   "source": [
    "mid_time = time.time()\n",
    "\n",
    "\n",
    "u1 = Utils(vmids[0], fns)\n",
    "u2 = Utils(vmids[1], fns)\n",
    "df1 = u1.read_csv(table[0]['Telco1_split_1'])\n",
    "df2 = u2.read_csv(table[1]['Telco1_split_2'])\n",
    "dfs = [df1, df2]\n",
    "\n",
    "print(time.time() - mid_time)"
   ]
  },
  {
   "cell_type": "code",
   "execution_count": 8,
   "metadata": {},
   "outputs": [
    {
     "data": {
      "text/plain": [
       "['{E869798A-EB11-4C4A-BC01-58AD751A3E0F}.5C37473C6D3443F49C03CAF0D746B997',\n",
       " '{50CC2AED-E844-48F2-A89C-D64BDDF983D0}.5C37473C6D3443F49C03CAF0D746B997']"
      ]
     },
     "execution_count": 8,
     "metadata": {},
     "output_type": "execute_result"
    }
   ],
   "source": [
    "dfs"
   ]
  },
  {
   "cell_type": "code",
   "execution_count": 9,
   "metadata": {},
   "outputs": [],
   "source": [
    "n=2\n",
    "data1 = RemoteDataFrame(vmids[0], df1, fns)\n",
    "data2 = RemoteDataFrame(vmids[1], df2, fns)\n",
    "data = [data1, data2]"
   ]
  },
  {
   "cell_type": "code",
   "execution_count": 10,
   "metadata": {},
   "outputs": [
    {
     "data": {
      "text/plain": [
       "[<sail.data.remote_dataframe.RemoteDataFrame at 0x7fa9153ed190>,\n",
       " <sail.data.remote_dataframe.RemoteDataFrame at 0x7fa9153e29a0>]"
      ]
     },
     "execution_count": 10,
     "metadata": {},
     "output_type": "execute_result"
    }
   ],
   "source": [
    "data"
   ]
  },
  {
   "cell_type": "code",
   "execution_count": 11,
   "metadata": {},
   "outputs": [],
   "source": [
    "dtypes = data1.dtypes\n",
    "type_dict = dict(dtypes)\n",
    "cate_labels = [key for key in type_dict if type_dict[key] in ['bool', 'object']]\n",
    "cate_labels.remove('phone number')"
   ]
  },
  {
   "cell_type": "code",
   "execution_count": 12,
   "metadata": {},
   "outputs": [],
   "source": [
    "cols = []\n",
    "cols.append(data1.columns)\n",
    "cols.append(data2.columns)"
   ]
  },
  {
   "cell_type": "code",
   "execution_count": 13,
   "metadata": {},
   "outputs": [],
   "source": [
    "y=[]\n",
    "X=[]\n",
    "n=2\n",
    "for i in range(n):\n",
    "    if 'phone number' in cols[i]:\n",
    "        data[i].data_id = data[i].drop('phone number', axis = 1)\n",
    "    data[i].data_id = data[i].label_encode(cate_labels)\n",
    "    y.append(data[i]['churn'])\n",
    "    X.append(data[i].drop('churn', axis = 1))"
   ]
  },
  {
   "cell_type": "code",
   "execution_count": 14,
   "metadata": {},
   "outputs": [
    {
     "data": {
      "text/plain": [
       "Index(['state', 'account length', 'area code', 'phone number',\n",
       "       'international plan', 'voice mail plan', 'number vmail messages',\n",
       "       'total day minutes', 'total day calls', 'total day charge',\n",
       "       'total eve minutes', 'total eve calls', 'total eve charge',\n",
       "       'total night minutes', 'total night calls', 'total night charge',\n",
       "       'total intl minutes', 'total intl calls', 'total intl charge',\n",
       "       'customer service calls', 'churn'],\n",
       "      dtype='object')"
      ]
     },
     "execution_count": 14,
     "metadata": {},
     "output_type": "execute_result"
    }
   ],
   "source": [
    "cols[0]"
   ]
  },
  {
   "cell_type": "code",
   "execution_count": 15,
   "metadata": {},
   "outputs": [
    {
     "data": {
      "text/plain": [
       "['{C67BB33D-C27C-4FBC-A805-E724D6DC3C7D}.048E16B349F8450694B1B30E0E49E6CE',\n",
       " '{5C04F6B1-30BD-4721-911F-7A854FD1649A}.048E16B349F8450694B1B30E0E49E6CE']"
      ]
     },
     "execution_count": 15,
     "metadata": {},
     "output_type": "execute_result"
    }
   ],
   "source": [
    "y_new = []\n",
    "for item in y:\n",
    "    y_new.append(item.data_id)\n",
    "y=y_new\n",
    "y"
   ]
  },
  {
   "cell_type": "code",
   "execution_count": 16,
   "metadata": {},
   "outputs": [],
   "source": [
    "# !pip3 install optuna"
   ]
  },
  {
   "cell_type": "code",
   "execution_count": 18,
   "metadata": {},
   "outputs": [],
   "source": [
    "import statistics\n",
    "import optuna\n",
    "\n",
    "def objective(trial, vmids, X, y, dim):\n",
    "    print(vmids)\n",
    "    print(X)\n",
    "    print(y)\n",
    "    print(dim)\n",
    "    print(\"successv0\")\n",
    "    from sklearn.model_selection import cross_val_score\n",
    "    from sklearn.metrics import auc\n",
    "    import numpy as np\n",
    "    \n",
    "    print(\"successv1\")\n",
    "    #trial partameter values\n",
    "    max_depth = trial.suggest_int('max_depth', 6, 10, step=2)\n",
    "    n_estimators = trial.suggest_int('n_estimators', 1, 3, step=1)\n",
    "    learning_rate = trial.suggest_uniform('learning_rate', 0, 1)\n",
    "    \n",
    "    print(\"successv2\")\n",
    "    model_params = {\n",
    "        \"colsample_bylevel\": 0.8523804169779899,\n",
    "        \"colsample_bytree\": 0.4004491523598215,\n",
    "        \"gamma\": 1e-09,\n",
    "        \"learning_rate\": learning_rate,\n",
    "        \"max_delta_step\": 20,\n",
    "        \"max_depth\": max_depth,\n",
    "        \"n_estimators\": n_estimators,\n",
    "        \"reg_alpha\": 6.8398027190415516e-06,\n",
    "        \"reg_lambda\": 100.0,\n",
    "        \"subsample\": 1.0,\n",
    "        \"scale_pos_weight\": 1.0\n",
    "        }\n",
    "    \n",
    "    print(\"successv3\")\n",
    "    #instantiate model given trial params\n",
    "    fdxgbmod = fdxgb(vmids, feature_num=dim, params=model_params)\n",
    "\n",
    "    print(\"successv4\")\n",
    "    #train the model, pull back locally\n",
    "    model = fdxgbmod.fit(X, y)\n",
    "    \n",
    "    print(\"successv5\")\n",
    "    #evaluate the model in terms of accuracy\n",
    "    results =  fdxgbmod.aucpr_score(model, X, y)\n",
    "    precision = results[0][0]\n",
    "    recall = results[0][2]\n",
    "    \n",
    "    print(\"succesv6\")\n",
    "    recall = np.append(recall, [1])    \n",
    "    #calculate area under curve\n",
    "    auc_precision_recall = auc(recall, precision)\n",
    "\n",
    "    print(auc_precision_recall)\n",
    "    #return area under curve\n",
    "    return auc_precision_recall"
   ]
  },
  {
   "cell_type": "code",
   "execution_count": null,
   "metadata": {},
   "outputs": [
    {
     "name": "stderr",
     "output_type": "stream",
     "text": [
      "\u001b[32m[I 2021-11-22 23:59:28,256]\u001b[0m A new study created in memory with name: no-name-5d7b8d78-97d9-46a4-8b08-13ef30d78063\u001b[0m\n"
     ]
    },
    {
     "name": "stdout",
     "output_type": "stream",
     "text": [
      "['{8DB2802A-ED61-4FC3-B18D-24595DD73C3D}', '{016747F9-FA18-4B4F-9332-52141298FE5B}']\n",
      "['{C03F21FD-4386-41BE-ACCB-0F5C5B4037AA}.2AE27D27AE4C4B6BAD3136BAC75B1667', '{137D56BB-498C-44DD-9D87-855E1C832EB6}.2AE27D27AE4C4B6BAD3136BAC75B1667']\n",
      "['{C67BB33D-C27C-4FBC-A805-E724D6DC3C7D}.048E16B349F8450694B1B30E0E49E6CE', '{5C04F6B1-30BD-4721-911F-7A854FD1649A}.048E16B349F8450694B1B30E0E49E6CE']\n",
      "19\n",
      "successv0\n",
      "successv1\n",
      "successv2\n",
      "successv3\n",
      "successv4\n",
      "all_hashes has len 3332\n",
      "all_counters has len 3332\n",
      "1\n",
      "[23:59:38] WARNING: ../src/learner.cc:576: \n",
      "Parameters: { \"n_estimators\" } might not be used.\n",
      "\n",
      "  This could be a false alarm, with some parameters getting used by language bindings but\n",
      "  then being mistakenly passed down to XGBoost core, or some parameter actually being used\n",
      "  but getting flagged wrongly here. Please open an issue if you find any such cases.\n",
      "\n",
      "\n",
      "Tree 1\n",
      "successv5\n"
     ]
    },
    {
     "name": "stderr",
     "output_type": "stream",
     "text": [
      "\u001b[32m[I 2021-11-22 23:59:46,828]\u001b[0m Trial 0 finished with value: 0.45746294433228435 and parameters: {'max_depth': 6, 'n_estimators': 1, 'learning_rate': 0.5303184749092963}. Best is trial 0 with value: 0.45746294433228435.\u001b[0m\n"
     ]
    },
    {
     "name": "stdout",
     "output_type": "stream",
     "text": [
      "succesv6\n",
      "0.45746294433228435\n",
      "['{8DB2802A-ED61-4FC3-B18D-24595DD73C3D}', '{016747F9-FA18-4B4F-9332-52141298FE5B}']\n",
      "['{C03F21FD-4386-41BE-ACCB-0F5C5B4037AA}.2AE27D27AE4C4B6BAD3136BAC75B1667', '{137D56BB-498C-44DD-9D87-855E1C832EB6}.2AE27D27AE4C4B6BAD3136BAC75B1667']\n",
      "['{C67BB33D-C27C-4FBC-A805-E724D6DC3C7D}.048E16B349F8450694B1B30E0E49E6CE', '{5C04F6B1-30BD-4721-911F-7A854FD1649A}.048E16B349F8450694B1B30E0E49E6CE']\n",
      "19\n",
      "successv0\n",
      "successv1\n",
      "successv2\n",
      "successv3\n",
      "successv4\n"
     ]
    }
   ],
   "source": [
    "dim = len(cols[0])-2\n",
    "\n",
    "study = optuna.create_study(direction=\"maximize\")\n",
    "\n",
    "n=3\n",
    "study.optimize(lambda trial: objective(trial, vmids, X, y, dim), n_trials=n)"
   ]
  },
  {
   "cell_type": "code",
   "execution_count": null,
   "metadata": {},
   "outputs": [],
   "source": [
    "# def objective(trial, x, y):\n",
    "    \n",
    "    \n",
    "#     z = trial.suggest_int('z', 2, 8, step=2)\n",
    "#     n=x*y+z\n",
    "    \n",
    "#     return n\n",
    "\n",
    "# dim = len(cols[0])-2\n",
    "\n",
    "# #start new study\n",
    "# study = optuna.create_study(direction=\"maximize\")\n",
    "\n",
    "# #run our objective function for n cycles\n",
    "# n=3\n",
    "# study.optimize(lambda trial: objective(trial, 5, 10), n_trials=n)"
   ]
  },
  {
   "cell_type": "code",
   "execution_count": null,
   "metadata": {},
   "outputs": [],
   "source": []
  },
  {
   "cell_type": "code",
   "execution_count": null,
   "metadata": {},
   "outputs": [],
   "source": []
  },
  {
   "cell_type": "code",
   "execution_count": null,
   "metadata": {},
   "outputs": [],
   "source": []
  },
  {
   "cell_type": "code",
   "execution_count": null,
   "metadata": {},
   "outputs": [],
   "source": []
  },
  {
   "cell_type": "code",
   "execution_count": null,
   "metadata": {},
   "outputs": [],
   "source": []
  }
 ],
 "metadata": {
  "kernelspec": {
   "display_name": "Python 3",
   "language": "python",
   "name": "python3"
  },
  "language_info": {
   "codemirror_mode": {
    "name": "ipython",
    "version": 3
   },
   "file_extension": ".py",
   "mimetype": "text/x-python",
   "name": "python",
   "nbconvert_exporter": "python",
   "pygments_lexer": "ipython3",
   "version": "3.8.10"
  }
 },
 "nbformat": 4,
 "nbformat_minor": 5
}
