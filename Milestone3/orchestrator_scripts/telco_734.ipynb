{
 "cells": [
  {
   "cell_type": "code",
   "execution_count": 1,
   "metadata": {},
   "outputs": [],
   "source": [
    "from sail.core import VMSetup, registersafeobj,login,connect,pushsafeobj,querydata,get_fns\n",
    "from sail.data import RemoteDataFrame, Utils\n",
    "from sail.algo import fdxgb\n",
    "import time\n",
    "start_time = time.time()"
   ]
  },
  {
   "cell_type": "code",
   "execution_count": 2,
   "metadata": {},
   "outputs": [
    {
     "name": "stdout",
     "output_type": "stream",
     "text": [
      "[P]safe objects registered\n"
     ]
    }
   ],
   "source": [
    "import json, requests\n",
    "soPath = \"/Development/Milestone3/EndPointTools/SafeObjectEditor/KPMG/safeobjects\"\n",
    "contractdict = [{\"DigitalContractGuid\":\"{327D1DC7-8235-4DE8-9F64-AD79D5545407}\"}, {\"DigitalContractGuid\":\"{33A6ADFE-7C3E-44E5-9D6E-28CA231B0B7D}\"}]\n",
    "backendIP = \"52.150.26.47\"\n",
    "\n",
    "registersafeobj(soPath)\n",
    "print(\"[P]safe objects registered\")"
   ]
  },
  {
   "cell_type": "code",
   "execution_count": 3,
   "metadata": {},
   "outputs": [
    {
     "name": "stdout",
     "output_type": "stream",
     "text": [
      "[P]login success\n",
      "5iEQAhtloSMJ5qPSj0HIpjUAWdThXhwhNp8+q82pX0jFXpul45NAEDe8TPGk4i4BgmHrDg0DAAAz71GFeqs+7QfXL+FVOvGZzq0rRi3R3pl5E9SfuDr90GHJcZ5hhnkCdg+WLevFVM0SbknaAj61DEP22aD71P9doDwaFJIovztUtBBEq4hZ1Odax4QjQHdgL8ysJaPUFbHukpWmQNUjr2fUuPmMHwiXuoVhpc3C4yFDTSMlCzHRFN201Ds/faHJD5fKiqRVuf8cnzsYE8FRGTcDnNSdFcRwuYYLkvv7nQtRPj07OIYZWuLpZQIGAI4mCXBtZgsepsnGdHb2Kjeihya7vSLV0DBxh05Y7/2PqZlnYSbBUaxYdHPrZWCWc5SpTLBbYYylNkYhJK8fDcPqO7HnBw/DO9RnLzFZegeExzDqWV3XlCv/5ATL5vAenVpm3Tdamcr+AH3/6q1ODPDOrkvCIJu867XAP+L2fH0trrEj5y3nH50HSaf2yDcF5qQgJgVV7brh3qclomW110sAO7v7MEIbU5zdUnYnke1oWdSeePSEDf5PurAGVxGGLE/zfaFo3izsvDcV4JsaUw7SD5WnZbwayKUWtvqrac1VPSDa9bTds5SVUTxaognsl9b75A+H8OyEEVXyNyNIRwaCMiX8QcKX+HzdO6dKHLMo6ITL99bXHUdshJ/F3JoRGxAE76NQ5bjCg78bYNVp5eryLQ/YZOzDt1bH7QH3uqHLQ3zEhKskKGOsPhAoS0V1scgL/LgXslQxdFQlaNYwQkHH6tN72Ibg49fJrYtg4rhMs2Ybm7CJ9cqHACc63jXua9MC/Ra6kNGFMchD613wyYWH2mJMa9IYEaioG1op32ZPKqWvPHoRlKWXcRYXKkKBShrjlqCuST/hP6WWvA/3GSeqNvKGrwRswvmXaYIq7G8U49rwbFJKrWLLJK62RuyNVlZYQKb4p5l+vpeFNn70g4uof/EkxzQ9rpMzJj9XUZHuuAmXmw7ee1VP3ofd0ihzcVFnAP6RldYv/W5d2Bs17sI22FlOsoGXz5wOMeAzX7z4dYBCEM60KFeeKIDgTI9tTwwApyt//pnFD6zkFB/lGn+97ChjCzvtMhpWsSmREm4=\n"
     ]
    }
   ],
   "source": [
    "eosb = login(\"r@r.r\", \"SailPassword@123\", 6200, backendIP)\n",
    "print(\"[P]login success\")\n",
    "print(eosb)"
   ]
  },
  {
   "cell_type": "code",
   "execution_count": 4,
   "metadata": {},
   "outputs": [
    {
     "name": "stdout",
     "output_type": "stream",
     "text": [
      "{\"DigitalContractGuid\": \"{327D1DC7-8235-4DE8-9F64-AD79D5545407}\"}\n"
     ]
    },
    {
     "name": "stderr",
     "output_type": "stream",
     "text": [
      "/usr/local/lib/python3.8/dist-packages/urllib3/connectionpool.py:1013: InsecureRequestWarning: Unverified HTTPS request is being made to host '52.150.26.47'. Adding certificate verification is strongly advised. See: https://urllib3.readthedocs.io/en/1.26.x/advanced-usage.html#ssl-warnings\n",
      "  warnings.warn(\n"
     ]
    },
    {
     "name": "stdout",
     "output_type": "stream",
     "text": [
      "{'Status': 200.0, 'VirtualMachines': {'D9F6B0A32F054CD2988A455F39F3599C': '13.82.3.210'}}\n",
      "['13.82.3.210']\n",
      "{\"DigitalContractGuid\": \"{33A6ADFE-7C3E-44E5-9D6E-28CA231B0B7D}\"}\n",
      "{'Status': 200.0, 'VirtualMachines': {'9CA432E3E2584631A81F2737F3148BF1': '13.82.2.212'}}\n",
      "['13.82.3.210', '13.82.2.212']\n"
     ]
    },
    {
     "name": "stderr",
     "output_type": "stream",
     "text": [
      "/usr/local/lib/python3.8/dist-packages/urllib3/connectionpool.py:1013: InsecureRequestWarning: Unverified HTTPS request is being made to host '52.150.26.47'. Adding certificate verification is strongly advised. See: https://urllib3.readthedocs.io/en/1.26.x/advanced-usage.html#ssl-warnings\n",
      "  warnings.warn(\n"
     ]
    }
   ],
   "source": [
    "url = \"https://\"+backendIP+\":6200/SAIL/VirtualMachineManager/GetRunningVMsIpAdresses?Eosb=\"+eosb\n",
    "\n",
    "payloads = []\n",
    "for item in contractdict:\n",
    "    temp = json.dumps(item)\n",
    "    payloads.append(temp)\n",
    "\n",
    "headers = {\n",
    "    'Content-Type': 'application/json'\n",
    "}\n",
    "\n",
    "ips = []\n",
    "for payload in payloads:\n",
    "    print(payload)\n",
    "    response = requests.request(\"GET\", url, headers=headers, data=payload, verify=False)\n",
    "    response = response.json()\n",
    "    print(response)\n",
    "    for key in response['VirtualMachines']:\n",
    "        ips.append(response['VirtualMachines'][key])\n",
    "        print(ips)"
   ]
  },
  {
   "cell_type": "code",
   "execution_count": 5,
   "metadata": {},
   "outputs": [
    {
     "name": "stdout",
     "output_type": "stream",
     "text": [
      "[P]virtual machine connection to ip: 13.82.2.212 success\n",
      "[P]safe object pushed to virtual machines\n",
      "[P]obtain table ids\n"
     ]
    }
   ],
   "source": [
    "vmids = []\n",
    "for ip in ips:\n",
    "    vmid = connect(ip, 3500)\n",
    "    vmids.append(vmid)\n",
    "print(\"[P]virtual machine connection to ip: {0} success\".format(ip), flush=True)\n",
    "    \n",
    "fns = get_fns()\n",
    "for vm in vmids:\n",
    "    for key in fns:\n",
    "        pushsafeobj(vm, fns[key])\n",
    "print(\"[P]safe object pushed to virtual machines\" , flush=True)\n",
    "\n",
    "table = []\n",
    "for vm in vmids:\n",
    "    tableid = querydata(vm)\n",
    "    table.append(tableid)\n",
    "print(\"[P]obtain table ids\", flush=True)"
   ]
  },
  {
   "cell_type": "code",
   "execution_count": 6,
   "metadata": {},
   "outputs": [
    {
     "data": {
      "text/plain": [
       "[{'Telco1_split_1': 'F49CBDE2C8B685499CF1563D107683C4'},\n",
       " {'Telco1_split_2': '723857D0F2593848BB1714A2869CFAF1'}]"
      ]
     },
     "execution_count": 6,
     "metadata": {},
     "output_type": "execute_result"
    }
   ],
   "source": [
    "table"
   ]
  },
  {
   "cell_type": "code",
   "execution_count": 7,
   "metadata": {},
   "outputs": [
    {
     "name": "stdout",
     "output_type": "stream",
     "text": [
      "8.009596109390259\n"
     ]
    }
   ],
   "source": [
    "mid_time = time.time()\n",
    "\n",
    "\n",
    "u1 = Utils(vmids[0], fns)\n",
    "u2 = Utils(vmids[1], fns)\n",
    "df1 = u1.read_csv(table[0]['Telco1_split_1'])\n",
    "df2 = u2.read_csv(table[1]['Telco1_split_2'])\n",
    "dfs = [df1, df2]\n",
    "\n",
    "print(time.time() - mid_time)"
   ]
  },
  {
   "cell_type": "code",
   "execution_count": 8,
   "metadata": {},
   "outputs": [
    {
     "data": {
      "text/plain": [
       "['{E07FA369-F5CA-4F45-BD49-9486D0982544}.5C37473C6D3443F49C03CAF0D746B997',\n",
       " '{AA76D490-4EA4-4881-BBA6-EB04F8BF3504}.5C37473C6D3443F49C03CAF0D746B997']"
      ]
     },
     "execution_count": 8,
     "metadata": {},
     "output_type": "execute_result"
    }
   ],
   "source": [
    "dfs"
   ]
  },
  {
   "cell_type": "code",
   "execution_count": 9,
   "metadata": {},
   "outputs": [],
   "source": [
    "n=2\n",
    "data1 = RemoteDataFrame(vmids[0], df1, fns)\n",
    "data2 = RemoteDataFrame(vmids[1], df2, fns)\n",
    "data = [data1, data2]"
   ]
  },
  {
   "cell_type": "code",
   "execution_count": 10,
   "metadata": {},
   "outputs": [
    {
     "data": {
      "text/plain": [
       "[<sail.data.remote_dataframe.RemoteDataFrame at 0x7f6a71148880>,\n",
       " <sail.data.remote_dataframe.RemoteDataFrame at 0x7f6a71148e20>]"
      ]
     },
     "execution_count": 10,
     "metadata": {},
     "output_type": "execute_result"
    }
   ],
   "source": [
    "data"
   ]
  },
  {
   "cell_type": "code",
   "execution_count": 11,
   "metadata": {},
   "outputs": [],
   "source": [
    "dtypes = data1.dtypes\n",
    "type_dict = dict(dtypes)\n",
    "cate_labels = [key for key in type_dict if type_dict[key] in ['bool', 'object']]\n",
    "cate_labels.remove('phone number')"
   ]
  },
  {
   "cell_type": "code",
   "execution_count": 12,
   "metadata": {},
   "outputs": [],
   "source": [
    "cols = []\n",
    "cols.append(data1.columns)\n",
    "cols.append(data2.columns)"
   ]
  },
  {
   "cell_type": "code",
   "execution_count": 13,
   "metadata": {},
   "outputs": [],
   "source": [
    "y=[]\n",
    "X=[]\n",
    "n=2\n",
    "for i in range(n):\n",
    "    if 'phone number' in cols[i]:\n",
    "        data[i].data_id = data[i].drop('phone number', axis = 1)\n",
    "    data[i].data_id = data[i].label_encode(cate_labels)\n",
    "    y.append(data[i]['churn'])\n",
    "    X.append(data[i].drop('churn', axis = 1))"
   ]
  },
  {
   "cell_type": "code",
   "execution_count": 14,
   "metadata": {},
   "outputs": [
    {
     "data": {
      "text/plain": [
       "Index(['state', 'account length', 'area code', 'phone number',\n",
       "       'international plan', 'voice mail plan', 'number vmail messages',\n",
       "       'total day minutes', 'total day calls', 'total day charge',\n",
       "       'total eve minutes', 'total eve calls', 'total eve charge',\n",
       "       'total night minutes', 'total night calls', 'total night charge',\n",
       "       'total intl minutes', 'total intl calls', 'total intl charge',\n",
       "       'customer service calls', 'churn'],\n",
       "      dtype='object')"
      ]
     },
     "execution_count": 14,
     "metadata": {},
     "output_type": "execute_result"
    }
   ],
   "source": [
    "cols[0]"
   ]
  },
  {
   "cell_type": "code",
   "execution_count": 15,
   "metadata": {},
   "outputs": [],
   "source": [
    "dim = len(cols[0])-2\n",
    "# fdxgbmod = fdxgb(vmids, params={'max_depth': 8 }, feature_num = dim)"
   ]
  },
  {
   "cell_type": "code",
   "execution_count": 16,
   "metadata": {},
   "outputs": [
    {
     "data": {
      "text/plain": [
       "['{225B34B3-9363-44F2-A553-543E4A30623F}.048E16B349F8450694B1B30E0E49E6CE',\n",
       " '{2B56B903-F5D1-41A9-B674-5C769DE69800}.048E16B349F8450694B1B30E0E49E6CE']"
      ]
     },
     "execution_count": 16,
     "metadata": {},
     "output_type": "execute_result"
    }
   ],
   "source": [
    "y_new = []\n",
    "for item in y:\n",
    "    y_new.append(item.data_id)\n",
    "y=y_new\n",
    "y"
   ]
  },
  {
   "cell_type": "code",
   "execution_count": 17,
   "metadata": {},
   "outputs": [],
   "source": [
    "# !pip3 install optuna"
   ]
  },
  {
   "cell_type": "code",
   "execution_count": 18,
   "metadata": {},
   "outputs": [],
   "source": [
    "import statistics\n",
    "import optuna\n",
    "\n",
    "# def objective(trial, X_train, y_train, X_test, y_test):\n",
    "#     param = {'max_depth':trial.suggest_int('max_depth', 6, 10, step=2)}\n",
    "#     fdxgbmod.params = param\n",
    "#     models = []\n",
    "#     cv_scores = []\n",
    "#     for i in range(5):\n",
    "#         model = fdxgbmod.fit([X_train[0][i], X_train[1][i]], [y_train[0][i], y_train[1][i]])\n",
    "#         models.append(model)\n",
    "#         cv_score = fdxgbmod.score([X_test[0][i], X_test[1][i]], [y_test[0][i], y_test[1][i]])\n",
    "#         cv_scores.append(cv_score)\n",
    "#     import statistics\n",
    "#     accuracy = statistics.mean(cv_scores)\n",
    "#     return accuracy"
   ]
  },
  {
   "cell_type": "code",
   "execution_count": 21,
   "metadata": {},
   "outputs": [],
   "source": [
    "def objective(trial, vmids, X, y, dim):\n",
    "    \n",
    "    from sklearn.model_selection import cross_val_score\n",
    "    from sklearn.metrics import auc\n",
    "    \n",
    "    #trial partameter values\n",
    "    max_depth = trial.suggest_int('max_depth', 6, 10, step=2)\n",
    "    n_estimators = trial.suggest_int('n_estimators', 1, 3, step=1)\n",
    "    learning_rate = trial.suggest_uniform('learning_rate', 0, 1)\n",
    "    \n",
    "    model_params = {\n",
    "        \"colsample_bylevel\": 0.8523804169779899,\n",
    "        \"colsample_bytree\": 0.4004491523598215,\n",
    "        \"gamma\": 1e-09,\n",
    "        \"learning_rate\": learning_rate,\n",
    "        \"max_delta_step\": 20,\n",
    "        \"max_depth\": max_depth,\n",
    "        \"n_estimators\": n_estimators,\n",
    "        \"reg_alpha\": 6.8398027190415516e-06,\n",
    "        \"reg_lambda\": 100.0,\n",
    "        \"subsample\": 1.0,\n",
    "        \"scale_pos_weight\": 1.0\n",
    "        }\n",
    "    \n",
    "    #instantiate model given trial params\n",
    "    fdxgbmod = fdxgb(vmids, feature_num = dim, params = model_params)\n",
    "\n",
    "    #train the model, pull back locally\n",
    "    model = fdxgbmod.fit(X, y)\n",
    "    print(\"successv0\")\n",
    "    \n",
    "    #evaluate the model in terms of accuracy\n",
    "    results =  fdxgbmod.aucpr_score(model, X, y)\n",
    "    precision = results[0][0]\n",
    "    recall = results[0][2]\n",
    "    \n",
    "    print(\"precision\")\n",
    "    print(\"recall\")\n",
    "    \n",
    "    #calculate area under curve\n",
    "    auc_precision_recall = auc(recall, precision)\n",
    "\n",
    "    #return area under curve\n",
    "    return auc_precision_recall"
   ]
  },
  {
   "cell_type": "code",
   "execution_count": null,
   "metadata": {},
   "outputs": [
    {
     "name": "stderr",
     "output_type": "stream",
     "text": [
      "\u001b[32m[I 2021-11-22 21:36:10,495]\u001b[0m A new study created in memory with name: no-name-e632848f-3953-4767-bac6-a68babc9e135\u001b[0m\n"
     ]
    }
   ],
   "source": [
    "dim = len(cols[0])-2\n",
    "\n",
    "study = optuna.create_study(direction=\"maximize\")\n",
    "\n",
    "n=3\n",
    "study.optimize(lambda trial: objective(trial, vmids, X, y, dim), n_trials=n)"
   ]
  },
  {
   "cell_type": "code",
   "execution_count": null,
   "metadata": {},
   "outputs": [],
   "source": [
    "# def objective(trial, x, y):\n",
    "    \n",
    "    \n",
    "#     z = trial.suggest_int('z', 2, 8, step=2)\n",
    "#     n=x*y+z\n",
    "    \n",
    "#     return n\n",
    "\n",
    "# dim = len(cols[0])-2\n",
    "\n",
    "# #start new study\n",
    "# study = optuna.create_study(direction=\"maximize\")\n",
    "\n",
    "# #run our objective function for n cycles\n",
    "# n=3\n",
    "# study.optimize(lambda trial: objective(trial, 5, 10), n_trials=n)"
   ]
  },
  {
   "cell_type": "code",
   "execution_count": null,
   "metadata": {},
   "outputs": [],
   "source": []
  },
  {
   "cell_type": "code",
   "execution_count": null,
   "metadata": {},
   "outputs": [],
   "source": []
  },
  {
   "cell_type": "code",
   "execution_count": null,
   "metadata": {},
   "outputs": [],
   "source": []
  },
  {
   "cell_type": "code",
   "execution_count": null,
   "metadata": {},
   "outputs": [],
   "source": []
  },
  {
   "cell_type": "code",
   "execution_count": null,
   "metadata": {},
   "outputs": [],
   "source": []
  }
 ],
 "metadata": {
  "kernelspec": {
   "display_name": "Python 3",
   "language": "python",
   "name": "python3"
  },
  "language_info": {
   "codemirror_mode": {
    "name": "ipython",
    "version": 3
   },
   "file_extension": ".py",
   "mimetype": "text/x-python",
   "name": "python",
   "nbconvert_exporter": "python",
   "pygments_lexer": "ipython3",
   "version": "3.8.10"
  }
 },
 "nbformat": 4,
 "nbformat_minor": 5
}
