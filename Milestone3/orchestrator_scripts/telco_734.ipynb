{
 "cells": [
  {
   "cell_type": "code",
   "execution_count": 1,
   "metadata": {},
   "outputs": [],
   "source": [
    "from sail.core import VMSetup, registersafeobj,login,connect,pushsafeobj,querydata,get_fns\n",
    "from sail.data import RemoteDataFrame, Utils\n",
    "from sail.algo import fdxgb\n",
    "import time\n",
    "start_time = time.time()"
   ]
  },
  {
   "cell_type": "code",
   "execution_count": 2,
   "metadata": {},
   "outputs": [
    {
     "name": "stdout",
     "output_type": "stream",
     "text": [
      "[P]safe objects registered\n"
     ]
    }
   ],
   "source": [
    "import json, requests\n",
    "soPath = \"/Development/Milestone3/EndPointTools/SafeObjectEditor/KPMG/safeobjects\"\n",
    "contractdict = [{\"DigitalContractGuid\":\"{327D1DC7-8235-4DE8-9F64-AD79D5545407}\"}, {\"DigitalContractGuid\":\"{33A6ADFE-7C3E-44E5-9D6E-28CA231B0B7D}\"}]\n",
    "backendIP = \"52.150.26.47\"\n",
    "\n",
    "registersafeobj(soPath)\n",
    "print(\"[P]safe objects registered\")"
   ]
  },
  {
   "cell_type": "code",
   "execution_count": 3,
   "metadata": {},
   "outputs": [
    {
     "name": "stdout",
     "output_type": "stream",
     "text": [
      "[P]login success\n",
      "5iEQAhtloSP4l7SkdREh5hFmXNfjsugQeWn11QRklb1vQfqNxqVpWCEdS+Kn+l7a6xI9AQ0DAADk7z68MTeXS5Ob5LNM7ZOSEkAjWvP/S4M1JvytW6fZ/Ni2yBkmZ70+NxUjbBSd1NTkxcJZEAiPGgSA7CUlkL/tjZBpNCrLdPwJSFFI7WYkxXxi5GTjGGBqrMzU5+Yxjh8pOX2ioO9Dm1KhwEpTBKbrD8RHPHMY37Uf7ErOHdcnIME9AUIl6Elh4A0KV1LNnmKEC3OAdbW0Rzeu+90FZ1pj6yjpf843jwSHO0kM+m7nsREDVHYwvXnBLckqqBBTdkx+qQJME3SUOFwkDwbwA7u9AEKC9QPokRnqE7gcrsH26ID8xunypaxL4NsQ0z2JqMli1/6lUabmdcigpVL+aE2g1Xo1oQAozRRWomcHLI5aIbsN1oBFPgML1YRbRvteZqSBKAgyd+MTHRqSKJmxdgs3xp64zTZ9E7VOSbFmtRpjA5nRWO6QDSN1HxomIhg3pQmXxXEZmdj/WGQJm2wBPQl8QnjS9X2kc3h7inLm4ahNMPeuSYloTp7TQt5ZMxSKyhxZ9sOjDNkxeSJExZQmnERwfFXnUvPXHShfPchCB8RsE3YYfW4chWC9lorqN7a3x8YWyEUbJ5H0gd1kb9vfkIpr6z6LhPw/jcmxAq+ncOyqyFrlrCLJsZcid4EgdecH9v49bOSJYEHl/W+t6QmpKpUzUSf06Wt9dspSCktyMXvBD3IYvGlmB/5O1Jba+Dp+P4MpDwhFP09tzLn8YPFWvLp6WRGMCEHhix1i/dymkoKWjh2xA1IBomFwvAC8OLMJF+mKPE4oDlXMjcamp9DyhHtJytEPTjyuRcRf+WxDEh0fHZh0EdXKGBwhvbhtGdrIyOfvAH3tfKlu9w6zjMJjQy7mX5xo3QhVFBANM3cGXYFFGvu67P4C8N2kFfGPk3QrUEVIfyLLAbfj4OCJqem/fSnO02EI9yZRZh5rU9BScY6/OHAIYvZa6f410NPWWDt+lr9CzATN3cDCJeApzuNd3vqdMN3AGTdPmPJIENK7l/nr8Bu5DStGPovTjcmMyp6Q9i4i+CyUsWrtADfqD7QZMhpWsSmREm4=\n"
     ]
    }
   ],
   "source": [
    "eosb = login(\"r@r.r\", \"SailPassword@123\", 6200, backendIP)\n",
    "print(\"[P]login success\")\n",
    "print(eosb)"
   ]
  },
  {
   "cell_type": "code",
   "execution_count": 4,
   "metadata": {},
   "outputs": [
    {
     "name": "stdout",
     "output_type": "stream",
     "text": [
      "{\"DigitalContractGuid\": \"{327D1DC7-8235-4DE8-9F64-AD79D5545407}\"}\n"
     ]
    },
    {
     "name": "stderr",
     "output_type": "stream",
     "text": [
      "/usr/local/lib/python3.8/dist-packages/urllib3/connectionpool.py:1013: InsecureRequestWarning: Unverified HTTPS request is being made to host '52.150.26.47'. Adding certificate verification is strongly advised. See: https://urllib3.readthedocs.io/en/1.26.x/advanced-usage.html#ssl-warnings\n",
      "  warnings.warn(\n"
     ]
    },
    {
     "name": "stdout",
     "output_type": "stream",
     "text": [
      "{'Status': 200.0, 'VirtualMachines': {'DE2D3FDFB7FD42EEAE5864BB4FEA8EA3': '20.124.191.165'}}\n",
      "['20.124.191.165']\n",
      "{\"DigitalContractGuid\": \"{33A6ADFE-7C3E-44E5-9D6E-28CA231B0B7D}\"}\n",
      "{'Status': 200.0, 'VirtualMachines': {'C71BF106F8CD492789B80A80D70AB046': '20.124.187.230'}}\n",
      "['20.124.191.165', '20.124.187.230']\n"
     ]
    },
    {
     "name": "stderr",
     "output_type": "stream",
     "text": [
      "/usr/local/lib/python3.8/dist-packages/urllib3/connectionpool.py:1013: InsecureRequestWarning: Unverified HTTPS request is being made to host '52.150.26.47'. Adding certificate verification is strongly advised. See: https://urllib3.readthedocs.io/en/1.26.x/advanced-usage.html#ssl-warnings\n",
      "  warnings.warn(\n"
     ]
    }
   ],
   "source": [
    "url = \"https://\"+backendIP+\":6200/SAIL/VirtualMachineManager/GetRunningVMsIpAdresses?Eosb=\"+eosb\n",
    "\n",
    "payloads = []\n",
    "for item in contractdict:\n",
    "    temp = json.dumps(item)\n",
    "    payloads.append(temp)\n",
    "\n",
    "headers = {\n",
    "    'Content-Type': 'application/json'\n",
    "}\n",
    "\n",
    "ips = []\n",
    "for payload in payloads:\n",
    "    print(payload)\n",
    "    response = requests.request(\"GET\", url, headers=headers, data=payload, verify=False)\n",
    "    response = response.json()\n",
    "    print(response)\n",
    "    for key in response['VirtualMachines']:\n",
    "        ips.append(response['VirtualMachines'][key])\n",
    "        print(ips)"
   ]
  },
  {
   "cell_type": "code",
   "execution_count": 5,
   "metadata": {},
   "outputs": [
    {
     "name": "stdout",
     "output_type": "stream",
     "text": [
      "[P]virtual machine connection to ip: 20.124.187.230 success\n",
      "[P]safe object pushed to virtual machines\n",
      "[P]obtain table ids\n"
     ]
    }
   ],
   "source": [
    "vmids = []\n",
    "for ip in ips:\n",
    "    vmid = connect(ip, 3500)\n",
    "    vmids.append(vmid)\n",
    "print(\"[P]virtual machine connection to ip: {0} success\".format(ip), flush=True)\n",
    "    \n",
    "fns = get_fns()\n",
    "for vm in vmids:\n",
    "    for key in fns:\n",
    "        pushsafeobj(vm, fns[key])\n",
    "print(\"[P]safe object pushed to virtual machines\" , flush=True)\n",
    "\n",
    "table = []\n",
    "for vm in vmids:\n",
    "    tableid = querydata(vm)\n",
    "    table.append(tableid)\n",
    "print(\"[P]obtain table ids\", flush=True)"
   ]
  },
  {
   "cell_type": "code",
   "execution_count": 6,
   "metadata": {},
   "outputs": [
    {
     "data": {
      "text/plain": [
       "[{'Telco1_split_1': 'F49CBDE2C8B685499CF1563D107683C4'},\n",
       " {'Telco1_split_2': '723857D0F2593848BB1714A2869CFAF1'}]"
      ]
     },
     "execution_count": 6,
     "metadata": {},
     "output_type": "execute_result"
    }
   ],
   "source": [
    "table"
   ]
  },
  {
   "cell_type": "code",
   "execution_count": 7,
   "metadata": {},
   "outputs": [
    {
     "name": "stdout",
     "output_type": "stream",
     "text": [
      "8.009491205215454\n"
     ]
    }
   ],
   "source": [
    "mid_time = time.time()\n",
    "\n",
    "\n",
    "u1 = Utils(vmids[0], fns)\n",
    "u2 = Utils(vmids[1], fns)\n",
    "df1 = u1.read_csv(table[0]['Telco1_split_1'])\n",
    "df2 = u2.read_csv(table[1]['Telco1_split_2'])\n",
    "dfs = [df1, df2]\n",
    "\n",
    "print(time.time() - mid_time)"
   ]
  },
  {
   "cell_type": "code",
   "execution_count": 8,
   "metadata": {},
   "outputs": [
    {
     "data": {
      "text/plain": [
       "['{CF4D8500-0F7A-40CC-9204-8D3A3B6AB15C}.5C37473C6D3443F49C03CAF0D746B997',\n",
       " '{EBE170B2-841C-4B7B-9C8A-2C92C227908F}.5C37473C6D3443F49C03CAF0D746B997']"
      ]
     },
     "execution_count": 8,
     "metadata": {},
     "output_type": "execute_result"
    }
   ],
   "source": [
    "dfs"
   ]
  },
  {
   "cell_type": "code",
   "execution_count": 9,
   "metadata": {},
   "outputs": [],
   "source": [
    "n=2\n",
    "data1 = RemoteDataFrame(vmids[0], df1, fns)\n",
    "data2 = RemoteDataFrame(vmids[1], df2, fns)\n",
    "data = [data1, data2]"
   ]
  },
  {
   "cell_type": "code",
   "execution_count": 10,
   "metadata": {},
   "outputs": [
    {
     "data": {
      "text/plain": [
       "[<sail.data.remote_dataframe.RemoteDataFrame at 0x7fbb24aeceb0>,\n",
       " <sail.data.remote_dataframe.RemoteDataFrame at 0x7fbb24aec6a0>]"
      ]
     },
     "execution_count": 10,
     "metadata": {},
     "output_type": "execute_result"
    }
   ],
   "source": [
    "data"
   ]
  },
  {
   "cell_type": "code",
   "execution_count": 11,
   "metadata": {},
   "outputs": [],
   "source": [
    "dtypes = data1.dtypes\n",
    "type_dict = dict(dtypes)\n",
    "cate_labels = [key for key in type_dict if type_dict[key] in ['bool', 'object']]\n",
    "cate_labels.remove('phone number')"
   ]
  },
  {
   "cell_type": "code",
   "execution_count": 12,
   "metadata": {},
   "outputs": [],
   "source": [
    "cols = []\n",
    "cols.append(data1.columns)\n",
    "cols.append(data2.columns)"
   ]
  },
  {
   "cell_type": "code",
   "execution_count": 13,
   "metadata": {},
   "outputs": [],
   "source": [
    "y=[]\n",
    "X=[]\n",
    "n=2\n",
    "for i in range(n):\n",
    "    if 'phone number' in cols[i]:\n",
    "        data[i].data_id = data[i].drop('phone number', axis = 1)\n",
    "    data[i].data_id = data[i].label_encode(cate_labels)\n",
    "    y.append(data[i]['churn'])\n",
    "    X.append(data[i].drop('churn', axis = 1))"
   ]
  },
  {
   "cell_type": "code",
   "execution_count": 14,
   "metadata": {},
   "outputs": [
    {
     "data": {
      "text/plain": [
       "Index(['state', 'account length', 'area code', 'phone number',\n",
       "       'international plan', 'voice mail plan', 'number vmail messages',\n",
       "       'total day minutes', 'total day calls', 'total day charge',\n",
       "       'total eve minutes', 'total eve calls', 'total eve charge',\n",
       "       'total night minutes', 'total night calls', 'total night charge',\n",
       "       'total intl minutes', 'total intl calls', 'total intl charge',\n",
       "       'customer service calls', 'churn'],\n",
       "      dtype='object')"
      ]
     },
     "execution_count": 14,
     "metadata": {},
     "output_type": "execute_result"
    }
   ],
   "source": [
    "cols[0]"
   ]
  },
  {
   "cell_type": "code",
   "execution_count": 15,
   "metadata": {},
   "outputs": [],
   "source": [
    "dim = len(cols[0])-2\n",
    "# fdxgbmod = fdxgb(vmids, params={'max_depth': 8 }, feature_num = dim)"
   ]
  },
  {
   "cell_type": "code",
   "execution_count": 16,
   "metadata": {},
   "outputs": [
    {
     "data": {
      "text/plain": [
       "['{B9CDA87C-6FEF-4E28-A441-3196A989EEB2}.048E16B349F8450694B1B30E0E49E6CE',\n",
       " '{2E3482DD-65C2-41CC-8E0A-71D02AC4DFE0}.048E16B349F8450694B1B30E0E49E6CE']"
      ]
     },
     "execution_count": 16,
     "metadata": {},
     "output_type": "execute_result"
    }
   ],
   "source": [
    "y_new = []\n",
    "for item in y:\n",
    "    y_new.append(item.data_id)\n",
    "y=y_new\n",
    "y"
   ]
  },
  {
   "cell_type": "code",
   "execution_count": 17,
   "metadata": {},
   "outputs": [],
   "source": [
    "# !pip3 install optuna"
   ]
  },
  {
   "cell_type": "code",
   "execution_count": 18,
   "metadata": {},
   "outputs": [],
   "source": [
    "import statistics\n",
    "import optuna\n",
    "\n",
    "# def objective(trial, X_train, y_train, X_test, y_test):\n",
    "#     param = {'max_depth':trial.suggest_int('max_depth', 6, 10, step=2)}\n",
    "#     fdxgbmod.params = param\n",
    "#     models = []\n",
    "#     cv_scores = []\n",
    "#     for i in range(5):\n",
    "#         model = fdxgbmod.fit([X_train[0][i], X_train[1][i]], [y_train[0][i], y_train[1][i]])\n",
    "#         models.append(model)\n",
    "#         cv_score = fdxgbmod.score([X_test[0][i], X_test[1][i]], [y_test[0][i], y_test[1][i]])\n",
    "#         cv_scores.append(cv_score)\n",
    "#     import statistics\n",
    "#     accuracy = statistics.mean(cv_scores)\n",
    "#     return accuracy"
   ]
  },
  {
   "cell_type": "code",
   "execution_count": 19,
   "metadata": {},
   "outputs": [],
   "source": [
    "def objective(trial, vmids, X, y, dim):\n",
    "    \n",
    "    print(\"successv0\")\n",
    "    from sklearn.model_selection import cross_val_score\n",
    "    from sklearn.metrics import auc\n",
    "    import numpy as np\n",
    "    \n",
    "    print(\"successv1\")\n",
    "    #trial partameter values\n",
    "    max_depth = trial.suggest_int('max_depth', 6, 10, step=2)\n",
    "    n_estimators = trial.suggest_int('n_estimators', 1, 3, step=1)\n",
    "    learning_rate = trial.suggest_uniform('learning_rate', 0, 1)\n",
    "    \n",
    "    print(\"successv2\")\n",
    "    model_params = {\n",
    "        \"colsample_bylevel\": 0.8523804169779899,\n",
    "        \"colsample_bytree\": 0.4004491523598215,\n",
    "        \"gamma\": 1e-09,\n",
    "        \"learning_rate\": learning_rate,\n",
    "        \"max_delta_step\": 20,\n",
    "        \"max_depth\": max_depth,\n",
    "        \"n_estimators\": n_estimators,\n",
    "        \"reg_alpha\": 6.8398027190415516e-06,\n",
    "        \"reg_lambda\": 100.0,\n",
    "        \"subsample\": 1.0,\n",
    "        \"scale_pos_weight\": 1.0\n",
    "        }\n",
    "    \n",
    "    print(\"successv3\")\n",
    "    #instantiate model given trial params\n",
    "    fdxgbmod = fdxgb(vmids, feature_num = dim, params = model_params)\n",
    "\n",
    "    print(\"successv4\")\n",
    "    #train the model, pull back locally\n",
    "    model = fdxgbmod.fit(X, y)\n",
    "    \n",
    "    print(\"successv5\")\n",
    "    #evaluate the model in terms of accuracy\n",
    "    results =  fdxgbmod.aucpr_score(model, X, y)\n",
    "    precision = results[0][0]\n",
    "    recall = results[0][2]\n",
    "    \n",
    "    print(\"succesv6\")\n",
    "    recall = np.append(recall, [1])    \n",
    "    #calculate area under curve\n",
    "    auc_precision_recall = auc(recall, precision)\n",
    "\n",
    "    print(auc_precision_recall)\n",
    "    #return area under curve\n",
    "    return auc_precision_recall"
   ]
  },
  {
   "cell_type": "code",
   "execution_count": null,
   "metadata": {},
   "outputs": [
    {
     "name": "stderr",
     "output_type": "stream",
     "text": [
      "\u001b[32m[I 2021-11-22 23:12:22,990]\u001b[0m A new study created in memory with name: no-name-5df93883-5f2a-4dc4-b9f0-06ec66a88844\u001b[0m\n"
     ]
    },
    {
     "name": "stdout",
     "output_type": "stream",
     "text": [
      "successv0\n",
      "successv1\n",
      "successv2\n",
      "successv3\n",
      "successv4\n",
      "all_hashes has len 3332\n",
      "all_counters has len 3332\n",
      "1\n",
      "[23:12:33] WARNING: ../src/learner.cc:576: \n",
      "Parameters: { \"n_estimators\" } might not be used.\n",
      "\n",
      "  This could be a false alarm, with some parameters getting used by language bindings but\n",
      "  then being mistakenly passed down to XGBoost core, or some parameter actually being used\n",
      "  but getting flagged wrongly here. Please open an issue if you find any such cases.\n",
      "\n",
      "\n",
      "Tree 1\n",
      "successv5\n"
     ]
    },
    {
     "name": "stderr",
     "output_type": "stream",
     "text": [
      "\u001b[32m[I 2021-11-22 23:12:41,625]\u001b[0m Trial 0 finished with value: 0.42476374940098827 and parameters: {'max_depth': 6, 'n_estimators': 1, 'learning_rate': 0.3428563693228506}. Best is trial 0 with value: 0.42476374940098827.\u001b[0m\n"
     ]
    },
    {
     "name": "stdout",
     "output_type": "stream",
     "text": [
      "succesv6\n",
      "0.42476374940098827\n",
      "successv0\n",
      "successv1\n",
      "successv2\n",
      "successv3\n",
      "successv4\n"
     ]
    }
   ],
   "source": [
    "dim = len(cols[0])-2\n",
    "\n",
    "study = optuna.create_study(direction=\"maximize\")\n",
    "\n",
    "n=3\n",
    "study.optimize(lambda trial: objective(trial, vmids, X, y, dim), n_trials=n)"
   ]
  },
  {
   "cell_type": "code",
   "execution_count": null,
   "metadata": {},
   "outputs": [],
   "source": [
    "# def objective(trial, x, y):\n",
    "    \n",
    "    \n",
    "#     z = trial.suggest_int('z', 2, 8, step=2)\n",
    "#     n=x*y+z\n",
    "    \n",
    "#     return n\n",
    "\n",
    "# dim = len(cols[0])-2\n",
    "\n",
    "# #start new study\n",
    "# study = optuna.create_study(direction=\"maximize\")\n",
    "\n",
    "# #run our objective function for n cycles\n",
    "# n=3\n",
    "# study.optimize(lambda trial: objective(trial, 5, 10), n_trials=n)"
   ]
  },
  {
   "cell_type": "code",
   "execution_count": null,
   "metadata": {},
   "outputs": [],
   "source": []
  },
  {
   "cell_type": "code",
   "execution_count": null,
   "metadata": {},
   "outputs": [],
   "source": []
  },
  {
   "cell_type": "code",
   "execution_count": null,
   "metadata": {},
   "outputs": [],
   "source": []
  },
  {
   "cell_type": "code",
   "execution_count": null,
   "metadata": {},
   "outputs": [],
   "source": []
  },
  {
   "cell_type": "code",
   "execution_count": null,
   "metadata": {},
   "outputs": [],
   "source": []
  }
 ],
 "metadata": {
  "kernelspec": {
   "display_name": "Python 3",
   "language": "python",
   "name": "python3"
  },
  "language_info": {
   "codemirror_mode": {
    "name": "ipython",
    "version": 3
   },
   "file_extension": ".py",
   "mimetype": "text/x-python",
   "name": "python",
   "nbconvert_exporter": "python",
   "pygments_lexer": "ipython3",
   "version": "3.8.10"
  }
 },
 "nbformat": 4,
 "nbformat_minor": 5
}
