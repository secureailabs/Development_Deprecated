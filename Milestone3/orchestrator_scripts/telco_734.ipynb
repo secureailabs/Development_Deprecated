{
 "cells": [
  {
   "cell_type": "code",
   "execution_count": 1,
   "metadata": {},
   "outputs": [],
   "source": [
    "from sail.core import VMSetup, registersafeobj,login,connect,pushsafeobj,querydata,get_fns\n",
    "from sail.data import RemoteDataFrame, Utils\n",
    "from sail.algo import fdxgb\n",
    "import time\n",
    "start_time = time.time()"
   ]
  },
  {
   "cell_type": "code",
   "execution_count": 2,
   "metadata": {},
   "outputs": [
    {
     "name": "stdout",
     "output_type": "stream",
     "text": [
      "[P]safe objects registered\n"
     ]
    }
   ],
   "source": [
    "import json, requests\n",
    "soPath = \"/Development/Milestone3/EndPointTools/SafeObjectEditor/KPMG/safeobjects\"\n",
    "contractdict = [{\"DigitalContractGuid\":\"{327D1DC7-8235-4DE8-9F64-AD79D5545407}\"}, {\"DigitalContractGuid\":\"{33A6ADFE-7C3E-44E5-9D6E-28CA231B0B7D}\"}]\n",
    "backendIP = \"52.150.26.47\"\n",
    "\n",
    "registersafeobj(soPath)\n",
    "print(\"[P]safe objects registered\")"
   ]
  },
  {
   "cell_type": "code",
   "execution_count": 3,
   "metadata": {},
   "outputs": [
    {
     "name": "stdout",
     "output_type": "stream",
     "text": [
      "[P]login success\n",
      "5iEQAhtloSMWB3Q07u85Mz2EdXKVkCM0hDNYINmrLjZ3pWNoz0St5jJEQaycIpcatAuB+w0DAADgJxVdJygdwGjFOdjsQNr0JWR20QIdhVHQ4EJDoSFZ6rBewrgBLFDtec28Y+aL1y+L5ANJYN3hZYYTWvYjXnn+Y/N1Pxg2wlh7GAAyUpIK8HM0isq1+p2FEW+EZFYuEnsydH1CDRJn9LjTLINLDDHg0gFHQTUd2cD7kqIBajmjthsQVFZUQCtOYOA8QINJWGR2YdpSXVR0/qbBCmDzD8CIMSgkZNgO0RUfIpPha1aOnMBCRUSgCz1mVpOAUNbKoFnap2feBzUpimPPbVQFX0rpj2HYt2HQUNo7ndayHyLmsItxQ07DxxH5L9moiv/AtZBFJyM25uB8KB7cN+km35jI0CjZnAIbMPOjipyOCc4usJhMTXjKFxoQ5SSRSU1LnXVj1zpqLDAQtZLHuSzr1p5Zhs6oDbFAlFb7SoRHPiG20IsaRTZXRS50Jzlhlsgrm97KfEFiw4k9xWLQAMgKndUhsdr/5gFI3Ns53hMDxBhC1CnM7Q9PqYc9wF1g/71YSGDaXDYQ9x95lN0oU/WwiFnpM33Q1558PUz9xU+nuR9FA0WkO6pyddgBfR+AQ1CKXqvTLZeDvlQ4lESWTHksM5W5Gl37pVRUK1NB8fs2KaxheHwRyoA2hVQPQxiHeuNxIaud6A/TcH9Xb2Qx+yj71fQvg/+FSDFSz9S/4mWec3J+wv+CZn7sZ1e0CBBSNaevkH27NLXmXcdogvqj9f0dQqnSGjML1r1kaRSw65kVzd8/4OllhFasF3sC+XkMfQ5UeKXXL1yOOIJ8lQOEr0nXor/tykzFPgsEOXSTrtvUE64HDJLh/Dvss1G8n/llHtPU1o27q73J64NNbDMC0w0jxcJUvnOJiLyO5ibvCxV9ash4OUJ3MskA7oTELoDb5FbzRxTKBTOj950qQ7RJxuRwogHJKwYbi4HzugnJJVhVej/jTZlZX5zQYN5KehaerNjFXBm4It7krAonkIh/eXqfy5s7RB1uA/Sj5l3gZz6wHNrwF3VG+ijjG+Y9kwS/fseGoHwq23ZclO6VH7Q7gsaUMhpWsSmREm4=\n"
     ]
    }
   ],
   "source": [
    "eosb = login(\"r@r.r\", \"SailPassword@123\", 6200, backendIP)\n",
    "print(\"[P]login success\")\n",
    "print(eosb)"
   ]
  },
  {
   "cell_type": "code",
   "execution_count": 4,
   "metadata": {},
   "outputs": [
    {
     "name": "stdout",
     "output_type": "stream",
     "text": [
      "{\"DigitalContractGuid\": \"{327D1DC7-8235-4DE8-9F64-AD79D5545407}\"}\n"
     ]
    },
    {
     "name": "stderr",
     "output_type": "stream",
     "text": [
      "/usr/local/lib/python3.8/dist-packages/urllib3/connectionpool.py:1013: InsecureRequestWarning: Unverified HTTPS request is being made to host '52.150.26.47'. Adding certificate verification is strongly advised. See: https://urllib3.readthedocs.io/en/1.26.x/advanced-usage.html#ssl-warnings\n",
      "  warnings.warn(\n"
     ]
    },
    {
     "name": "stdout",
     "output_type": "stream",
     "text": [
      "{'Status': 200.0, 'VirtualMachines': {'D1CA7F981313438A8454AF252387ACD0': '20.120.20.85'}}\n",
      "['20.120.20.85']\n",
      "{\"DigitalContractGuid\": \"{33A6ADFE-7C3E-44E5-9D6E-28CA231B0B7D}\"}\n",
      "{'Status': 200.0, 'VirtualMachines': {'FE4A042169234A72AA9D3B4FD0743062': '20.124.225.129'}}\n",
      "['20.120.20.85', '20.124.225.129']\n"
     ]
    },
    {
     "name": "stderr",
     "output_type": "stream",
     "text": [
      "/usr/local/lib/python3.8/dist-packages/urllib3/connectionpool.py:1013: InsecureRequestWarning: Unverified HTTPS request is being made to host '52.150.26.47'. Adding certificate verification is strongly advised. See: https://urllib3.readthedocs.io/en/1.26.x/advanced-usage.html#ssl-warnings\n",
      "  warnings.warn(\n"
     ]
    }
   ],
   "source": [
    "url = \"https://\"+backendIP+\":6200/SAIL/VirtualMachineManager/GetRunningVMsIpAdresses?Eosb=\"+eosb\n",
    "\n",
    "payloads = []\n",
    "for item in contractdict:\n",
    "    temp = json.dumps(item)\n",
    "    payloads.append(temp)\n",
    "\n",
    "headers = {\n",
    "    'Content-Type': 'application/json'\n",
    "}\n",
    "\n",
    "ips = []\n",
    "for payload in payloads:\n",
    "    print(payload)\n",
    "    response = requests.request(\"GET\", url, headers=headers, data=payload, verify=False)\n",
    "    response = response.json()\n",
    "    print(response)\n",
    "    for key in response['VirtualMachines']:\n",
    "        ips.append(response['VirtualMachines'][key])\n",
    "        print(ips)"
   ]
  },
  {
   "cell_type": "code",
   "execution_count": 5,
   "metadata": {},
   "outputs": [
    {
     "name": "stdout",
     "output_type": "stream",
     "text": [
      "[P]virtual machine connection to ip: 20.124.225.129 success\n",
      "[P]safe object pushed to virtual machines\n",
      "[P]obtain table ids\n"
     ]
    }
   ],
   "source": [
    "vmids = []\n",
    "for ip in ips:\n",
    "    vmid = connect(ip, 3500)\n",
    "    vmids.append(vmid)\n",
    "print(\"[P]virtual machine connection to ip: {0} success\".format(ip), flush=True)\n",
    "    \n",
    "fns = get_fns()\n",
    "for vm in vmids:\n",
    "    for key in fns:\n",
    "        pushsafeobj(vm, fns[key])\n",
    "print(\"[P]safe object pushed to virtual machines\" , flush=True)\n",
    "\n",
    "table = []\n",
    "for vm in vmids:\n",
    "    tableid = querydata(vm)\n",
    "    table.append(tableid)\n",
    "print(\"[P]obtain table ids\", flush=True)"
   ]
  },
  {
   "cell_type": "code",
   "execution_count": 6,
   "metadata": {},
   "outputs": [
    {
     "data": {
      "text/plain": [
       "[{'Telco1_split_1': 'F49CBDE2C8B685499CF1563D107683C4'},\n",
       " {'Telco1_split_2': '723857D0F2593848BB1714A2869CFAF1'}]"
      ]
     },
     "execution_count": 6,
     "metadata": {},
     "output_type": "execute_result"
    }
   ],
   "source": [
    "table"
   ]
  },
  {
   "cell_type": "code",
   "execution_count": 7,
   "metadata": {},
   "outputs": [
    {
     "name": "stdout",
     "output_type": "stream",
     "text": [
      "8.009493827819824\n"
     ]
    }
   ],
   "source": [
    "mid_time = time.time()\n",
    "\n",
    "\n",
    "u1 = Utils(vmids[0], fns)\n",
    "u2 = Utils(vmids[1], fns)\n",
    "df1 = u1.read_csv(table[0]['Telco1_split_1'])\n",
    "df2 = u2.read_csv(table[1]['Telco1_split_2'])\n",
    "dfs = [df1, df2]\n",
    "\n",
    "print(time.time() - mid_time)"
   ]
  },
  {
   "cell_type": "code",
   "execution_count": 8,
   "metadata": {},
   "outputs": [
    {
     "data": {
      "text/plain": [
       "['{5D21D00E-D873-4C52-800C-F53A69F8D808}.5C37473C6D3443F49C03CAF0D746B997',\n",
       " '{0FC853C3-F639-41DD-9C9C-E484ABE164D3}.5C37473C6D3443F49C03CAF0D746B997']"
      ]
     },
     "execution_count": 8,
     "metadata": {},
     "output_type": "execute_result"
    }
   ],
   "source": [
    "dfs"
   ]
  },
  {
   "cell_type": "code",
   "execution_count": 9,
   "metadata": {},
   "outputs": [],
   "source": [
    "n=2\n",
    "data1 = RemoteDataFrame(vmids[0], df1, fns)\n",
    "data2 = RemoteDataFrame(vmids[1], df2, fns)\n",
    "data = [data1, data2]"
   ]
  },
  {
   "cell_type": "code",
   "execution_count": 10,
   "metadata": {},
   "outputs": [
    {
     "data": {
      "text/plain": [
       "[<sail.data.remote_dataframe.RemoteDataFrame at 0x7f5f2bb1a640>,\n",
       " <sail.data.remote_dataframe.RemoteDataFrame at 0x7f5f2bb1a7f0>]"
      ]
     },
     "execution_count": 10,
     "metadata": {},
     "output_type": "execute_result"
    }
   ],
   "source": [
    "data"
   ]
  },
  {
   "cell_type": "code",
   "execution_count": 11,
   "metadata": {},
   "outputs": [],
   "source": [
    "dtypes = data1.dtypes\n",
    "type_dict = dict(dtypes)\n",
    "cate_labels = [key for key in type_dict if type_dict[key] in ['bool', 'object']]\n",
    "cate_labels.remove('phone number')"
   ]
  },
  {
   "cell_type": "code",
   "execution_count": 12,
   "metadata": {},
   "outputs": [],
   "source": [
    "cols = []\n",
    "cols.append(data1.columns)\n",
    "cols.append(data2.columns)"
   ]
  },
  {
   "cell_type": "code",
   "execution_count": 13,
   "metadata": {},
   "outputs": [],
   "source": [
    "y=[]\n",
    "X=[]\n",
    "n=2\n",
    "for i in range(n):\n",
    "    if 'phone number' in cols[i]:\n",
    "        data[i].data_id = data[i].drop('phone number', axis = 1)\n",
    "    data[i].data_id = data[i].label_encode(cate_labels)\n",
    "    y.append(data[i]['churn'])\n",
    "    X.append(data[i].drop('churn', axis = 1))"
   ]
  },
  {
   "cell_type": "code",
   "execution_count": 14,
   "metadata": {},
   "outputs": [
    {
     "data": {
      "text/plain": [
       "Index(['state', 'account length', 'area code', 'phone number',\n",
       "       'international plan', 'voice mail plan', 'number vmail messages',\n",
       "       'total day minutes', 'total day calls', 'total day charge',\n",
       "       'total eve minutes', 'total eve calls', 'total eve charge',\n",
       "       'total night minutes', 'total night calls', 'total night charge',\n",
       "       'total intl minutes', 'total intl calls', 'total intl charge',\n",
       "       'customer service calls', 'churn'],\n",
       "      dtype='object')"
      ]
     },
     "execution_count": 14,
     "metadata": {},
     "output_type": "execute_result"
    }
   ],
   "source": [
    "cols[0]"
   ]
  },
  {
   "cell_type": "code",
   "execution_count": 15,
   "metadata": {},
   "outputs": [
    {
     "data": {
      "text/plain": [
       "['{66106D43-B7E2-4E38-B1C0-885970AC3327}.048E16B349F8450694B1B30E0E49E6CE',\n",
       " '{E82A2489-FDEC-41CF-A161-6C2008A4315F}.048E16B349F8450694B1B30E0E49E6CE']"
      ]
     },
     "execution_count": 15,
     "metadata": {},
     "output_type": "execute_result"
    }
   ],
   "source": [
    "y_new = []\n",
    "for item in y:\n",
    "    y_new.append(item.data_id)\n",
    "y=y_new\n",
    "y"
   ]
  },
  {
   "cell_type": "code",
   "execution_count": 16,
   "metadata": {},
   "outputs": [],
   "source": [
    "# !pip3 install optuna"
   ]
  },
  {
   "cell_type": "code",
   "execution_count": 17,
   "metadata": {},
   "outputs": [],
   "source": [
    "import statistics\n",
    "import optuna\n",
    "\n",
    "def objective(trial, fdxgbmod, X, y, dim):\n",
    "    from sklearn.model_selection import cross_val_score\n",
    "    from sklearn.metrics import auc\n",
    "    import numpy as np\n",
    "    \n",
    "    #trial partameter values\n",
    "    max_depth = trial.suggest_int('max_depth', 6, 10, step=2)\n",
    "    n_estimators = trial.suggest_int('n_estimators', 1, 3, step=1)\n",
    "    learning_rate = trial.suggest_uniform('learning_rate', 0, 1)\n",
    "    colsample_bytree = trial.suggest_uniform('colsample_bytree', 0, 1)\n",
    "    colsample_bylevel = trial.suggest_uniform('colsample_bylevel', 0, 1)\n",
    "\n",
    "\n",
    "    \n",
    "    model_params = {\n",
    "        \"colsample_bylevel\": colsample_bylevel,\n",
    "        \"colsample_bytree\": colsample_bytree,\n",
    "        \"gamma\": 1e-09,\n",
    "        \"learning_rate\": learning_rate,\n",
    "        \"max_delta_step\": 20,\n",
    "        \"max_depth\": max_depth,\n",
    "        \"n_estimators\": n_estimators,\n",
    "        \"reg_alpha\": 6.8398027190415516e-06,\n",
    "        \"reg_lambda\": 100.0,\n",
    "        \"subsample\": 1.0,\n",
    "        \"scale_pos_weight\": 1.0\n",
    "        }\n",
    "    \n",
    "    fdxgbmod.params =  model_params\n",
    "    fdxgbmod.feature_num =  dim\n",
    "\n",
    "\n",
    "    #train the a new model\n",
    "    model = fdxgbmod.fit(X, y)\n",
    "    \n",
    "    #evaluate the model in terms of accuracy\n",
    "    results =  fdxgbmod.aucpr_score(model, X, y)\n",
    "    precision = results[0][0]\n",
    "    recall = results[0][2]\n",
    "    \n",
    "    recall = np.append(recall, [1])    \n",
    "    \n",
    "    #calculate area under curve\n",
    "    auc_precision_recall = auc(recall, precision)\n",
    "\n",
    "    #return area under curve\n",
    "    return auc_precision_recall"
   ]
  },
  {
   "cell_type": "code",
   "execution_count": 18,
   "metadata": {},
   "outputs": [
    {
     "name": "stderr",
     "output_type": "stream",
     "text": [
      "\u001b[32m[I 2021-11-23 02:00:01,838]\u001b[0m A new study created in memory with name: no-name-64e1c30d-191d-44a8-88a6-e5e1c081d43f\u001b[0m\n"
     ]
    },
    {
     "name": "stdout",
     "output_type": "stream",
     "text": [
      "all_hashes has len 3332\n",
      "all_counters has len 3332\n",
      "1\n",
      "[02:00:12] WARNING: ../src/learner.cc:576: \n",
      "Parameters: { \"n_estimators\" } might not be used.\n",
      "\n",
      "  This could be a false alarm, with some parameters getting used by language bindings but\n",
      "  then being mistakenly passed down to XGBoost core, or some parameter actually being used\n",
      "  but getting flagged wrongly here. Please open an issue if you find any such cases.\n",
      "\n",
      "\n",
      "Tree 1\n"
     ]
    },
    {
     "name": "stderr",
     "output_type": "stream",
     "text": [
      "\u001b[32m[I 2021-11-23 02:00:20,421]\u001b[0m Trial 0 finished with value: 0.4758513644390211 and parameters: {'max_depth': 8, 'n_estimators': 1, 'learning_rate': 0.7943406243780516, 'colsample_bytree': 0.16319489007854504, 'colsample_bylevel': 0.07466403806792987}. Best is trial 0 with value: 0.4758513644390211.\u001b[0m\n"
     ]
    },
    {
     "name": "stdout",
     "output_type": "stream",
     "text": [
      "all_hashes has len 3332\n",
      "all_counters has len 3332\n",
      "1\n",
      "[02:00:30] WARNING: ../src/learner.cc:576: \n",
      "Parameters: { \"n_estimators\" } might not be used.\n",
      "\n",
      "  This could be a false alarm, with some parameters getting used by language bindings but\n",
      "  then being mistakenly passed down to XGBoost core, or some parameter actually being used\n",
      "  but getting flagged wrongly here. Please open an issue if you find any such cases.\n",
      "\n",
      "\n",
      "Tree 1\n",
      "Tree 2\n",
      "Tree 3\n"
     ]
    },
    {
     "name": "stderr",
     "output_type": "stream",
     "text": [
      "\u001b[32m[I 2021-11-23 02:00:50,989]\u001b[0m Trial 1 finished with value: 0.5225113736051712 and parameters: {'max_depth': 8, 'n_estimators': 3, 'learning_rate': 0.24233243161503337, 'colsample_bytree': 0.41748741453463656, 'colsample_bylevel': 0.22881077932561267}. Best is trial 1 with value: 0.5225113736051712.\u001b[0m\n"
     ]
    },
    {
     "name": "stdout",
     "output_type": "stream",
     "text": [
      "all_hashes has len 3332\n",
      "all_counters has len 3332\n",
      "1\n",
      "[02:01:01] WARNING: ../src/learner.cc:576: \n",
      "Parameters: { \"n_estimators\" } might not be used.\n",
      "\n",
      "  This could be a false alarm, with some parameters getting used by language bindings but\n",
      "  then being mistakenly passed down to XGBoost core, or some parameter actually being used\n",
      "  but getting flagged wrongly here. Please open an issue if you find any such cases.\n",
      "\n",
      "\n",
      "Tree 1\n"
     ]
    },
    {
     "name": "stderr",
     "output_type": "stream",
     "text": [
      "\u001b[32m[I 2021-11-23 02:01:09,575]\u001b[0m Trial 2 finished with value: 0.5417772012363007 and parameters: {'max_depth': 10, 'n_estimators': 1, 'learning_rate': 0.9726713084023217, 'colsample_bytree': 0.33010482552471665, 'colsample_bylevel': 0.6074102644745367}. Best is trial 2 with value: 0.5417772012363007.\u001b[0m\n"
     ]
    }
   ],
   "source": [
    "dim = len(cols[0])-2\n",
    "study = optuna.create_study(direction=\"maximize\")\n",
    "fdxgbmod = fdxgb(vmids, feature_num=dim)\n",
    "\n",
    "n=3\n",
    "study.optimize(lambda trial: objective(trial, fdxgbmod, X, y, dim), n_trials=n)"
   ]
  },
  {
   "cell_type": "code",
   "execution_count": 19,
   "metadata": {},
   "outputs": [
    {
     "name": "stdout",
     "output_type": "stream",
     "text": [
      "Requirement already satisfied: plotly==5.4.0 in /usr/local/lib/python3.8/dist-packages (5.4.0)\r\n",
      "Requirement already satisfied: tenacity>=6.2.0 in /usr/local/lib/python3.8/dist-packages (from plotly==5.4.0) (8.0.1)\r\n",
      "Requirement already satisfied: six in /usr/local/lib/python3.8/dist-packages (from plotly==5.4.0) (1.16.0)\r\n"
     ]
    }
   ],
   "source": [
    "!pip install plotly==5.4.0"
   ]
  },
  {
   "cell_type": "code",
   "execution_count": 20,
   "metadata": {},
   "outputs": [
    {
     "name": "stderr",
     "output_type": "stream",
     "text": [
      "<ipython-input-20-686ac4863f55>:3: ExperimentalWarning: plot_slice is experimental (supported from v2.2.0). The interface can change in the future.\n",
      "  optuna.visualization.matplotlib.plot_slice(study)\n"
     ]
    },
    {
     "data": {
      "text/plain": [
       "array([<AxesSubplot:xlabel='colsample_bylevel', ylabel='Objective Value'>,\n",
       "       <AxesSubplot:xlabel='colsample_bytree'>,\n",
       "       <AxesSubplot:xlabel='learning_rate'>,\n",
       "       <AxesSubplot:xlabel='max_depth'>,\n",
       "       <AxesSubplot:xlabel='n_estimators'>], dtype=object)"
      ]
     },
     "execution_count": 20,
     "metadata": {},
     "output_type": "execute_result"
    },
    {
     "data": {
      "image/png": "[encoded data removed]",
      "text/plain": [
       "<Figure size 1080x288 with 6 Axes>"
      ]
     },
     "metadata": {},
     "output_type": "display_data"
    }
   ],
   "source": [
    "import plotly\n",
    "\n",
    "optuna.visualization.matplotlib.plot_slice(study)"
   ]
  },
  {
   "cell_type": "code",
   "execution_count": null,
   "metadata": {},
   "outputs": [],
   "source": []
  },
  {
   "cell_type": "code",
   "execution_count": null,
   "metadata": {},
   "outputs": [],
   "source": []
  },
  {
   "cell_type": "code",
   "execution_count": null,
   "metadata": {},
   "outputs": [],
   "source": []
  },
  {
   "cell_type": "code",
   "execution_count": null,
   "metadata": {},
   "outputs": [],
   "source": []
  }
 ],
 "metadata": {
  "kernelspec": {
   "display_name": "Python 3",
   "language": "python",
   "name": "python3"
  },
  "language_info": {
   "codemirror_mode": {
    "name": "ipython",
    "version": 3
   },
   "file_extension": ".py",
   "mimetype": "text/x-python",
   "name": "python",
   "nbconvert_exporter": "python",
   "pygments_lexer": "ipython3",
   "version": "3.8.10"
  }
 },
 "nbformat": 4,
 "nbformat_minor": 5
}
